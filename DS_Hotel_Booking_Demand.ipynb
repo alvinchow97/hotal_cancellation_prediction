{
  "nbformat": 4,
  "nbformat_minor": 0,
  "metadata": {
    "colab": {
      "name": "DS Hotel Booking Demand.ipynb",
      "provenance": [],
      "collapsed_sections": []
    },
    "kernelspec": {
      "name": "python3",
      "display_name": "Python 3"
    }
  },
  "cells": [
    {
      "cell_type": "markdown",
      "metadata": {
        "id": "QB3xlmfwe9FW",
        "colab_type": "text"
      },
      "source": [
        "# **Analysis on Hotel Booking Cancellation**\n",
        "\n",
        "\n",
        "\n",
        "\n"
      ]
    },
    {
      "cell_type": "markdown",
      "metadata": {
        "id": "rSqZFsNWft0n",
        "colab_type": "text"
      },
      "source": [
        "# **Alvin Chow Wei Hong, Chok Yong Kang, Liew Jie Qi, Loo Jia Yi** \n",
        "\n",
        "*Faculty of Computing and Information Technology, Tunku Abdul Rahman University College, Kuala Lumpur 53300, Malaysia*\n",
        "\n",
        "<alvincwh-wm17@student.tarc.edu.my>\\\n",
        "<chokyk-wm17@student.tarc.edu.my>\\\n",
        "<liewjq-wm17@student.tarc.edu.my>\\\n",
        "<loojy-wm17@student.tarc.edu.my> "
      ]
    },
    {
      "cell_type": "markdown",
      "metadata": {
        "id": "-P0BF_swfGsI",
        "colab_type": "text"
      },
      "source": [
        "## **Abstract**"
      ]
    },
    {
      "cell_type": "markdown",
      "metadata": {
        "id": "nnfRnLGJf2ur",
        "colab_type": "text"
      },
      "source": [
        "This report presents the analysis on Hotel Booking Cancellation. The hotel involved categorized to two types, which is Resort Hotel and City Hotel. Hotel Reservation cancellation is uncommon in the hotel industry, each cancellation means a lost revenue opportunity that can never be recovered. Therefore, if we can predict if a guest would cancel a reservation, hotels could contact guests that most like to cancel to confirm more efficiently and to resell room to optimize revenues. "
      ]
    },
    {
      "cell_type": "markdown",
      "metadata": {
        "id": "C7164c0OeI0i",
        "colab_type": "text"
      },
      "source": [
        "## **Business Understanding**"
      ]
    },
    {
      "cell_type": "markdown",
      "metadata": {
        "id": "DfXtaO6iehkS",
        "colab_type": "text"
      },
      "source": [
        "### **Objective**"
      ]
    },
    {
      "cell_type": "markdown",
      "metadata": {
        "id": "ygg8sMO6f9PI",
        "colab_type": "text"
      },
      "source": [
        "Resort Hotel and City Hotel involved in reservation cancellation is uncommon in the hotel industry, each cancellation means a lost revenue opportunity that can never be recovered. Therefore, if we can predict if a guest would cancel a reservation, hotels could contact guests that most like to cancel to confirm more efficiently and to resell room to optimize revenues. "
      ]
    },
    {
      "cell_type": "markdown",
      "metadata": {
        "id": "YFvo4BZVgCO5",
        "colab_type": "text"
      },
      "source": [
        "## **Current Situation**"
      ]
    },
    {
      "cell_type": "markdown",
      "metadata": {
        "id": "tlBb3uVDgFO7",
        "colab_type": "text"
      },
      "source": [
        "### **Inventory of Resources**"
      ]
    },
    {
      "cell_type": "markdown",
      "metadata": {
        "id": "SuXtbTr2gIvb",
        "colab_type": "text"
      },
      "source": [
        "The student from Bachelor Degree in Computer Science (Software Engineering) which are Alvin Chow Wei Hong (19WMR09723), Chok Yong Kang (19WMR09733), Liew Jie Qi (19WMR11076) and Loo Jia Yi (19WMR11069) are exploring prediction on the hotel reservation cancellation. The dataset used is from Kaggle (https://www.kaggle.com/jessemostipak/hotel-booking-demand). The data originally from Nuno Antonio, Ana Aimeida and Luis Nunes article, \"Hotel Booking Demand Datasets\". The software used in developing the supervised learning is Google Colab, which is one of Google product"
      ]
    },
    {
      "cell_type": "markdown",
      "metadata": {
        "id": "1ofjFzlmgSV0",
        "colab_type": "text"
      },
      "source": [
        "### **Requirements, assumptions and constraints**"
      ]
    },
    {
      "cell_type": "markdown",
      "metadata": {
        "id": "kKcDM3dPgXW3",
        "colab_type": "text"
      },
      "source": [
        "The project is required to be completed by 11:59 p.m of 13th September 2020. The dataset is accessible by the public, therefore there is no legality issues."
      ]
    },
    {
      "cell_type": "markdown",
      "metadata": {
        "id": "aoPJbOTdgZ1E",
        "colab_type": "text"
      },
      "source": [
        "### **Risk and Contingencies**"
      ]
    },
    {
      "cell_type": "markdown",
      "metadata": {
        "id": "YFZNJTvCgc-G",
        "colab_type": "text"
      },
      "source": [
        "The missing values are most likely causing the prediction to be failed as inaccurancy is higher . If there is quite alot of missing values, the missing values will be replaced. If the missing value is quite less, it will be deleted."
      ]
    },
    {
      "cell_type": "markdown",
      "metadata": {
        "id": "VHVFpeOkgfDx",
        "colab_type": "text"
      },
      "source": [
        "### **Costs and Benefits**"
      ]
    },
    {
      "cell_type": "markdown",
      "metadata": {
        "id": "Auy0cAltgjkc",
        "colab_type": "text"
      },
      "source": [
        "Most opportunity to resell the room to be predicted cancel and to optimize revenues. "
      ]
    },
    {
      "cell_type": "markdown",
      "metadata": {
        "id": "-YQd8yg3grSN",
        "colab_type": "text"
      },
      "source": [
        "## **Data Mining Goals**"
      ]
    },
    {
      "cell_type": "markdown",
      "metadata": {
        "id": "ldBACaFBg5yA",
        "colab_type": "text"
      },
      "source": [
        "### **Business Success Criteria**"
      ]
    },
    {
      "cell_type": "markdown",
      "metadata": {
        "id": "isYLCSybg_jW",
        "colab_type": "text"
      },
      "source": [
        "The achievemenet of business objective indicate the success in project implmentation"
      ]
    },
    {
      "cell_type": "markdown",
      "metadata": {
        "id": "rGL2jWGFhK6g",
        "colab_type": "text"
      },
      "source": [
        "### **Data Mining Success Criteria**"
      ]
    },
    {
      "cell_type": "markdown",
      "metadata": {
        "id": "9fxeYHWJhOoH",
        "colab_type": "text"
      },
      "source": [
        "The data mining is considered as a sucess due to high accurancy, precision and recall"
      ]
    },
    {
      "cell_type": "markdown",
      "metadata": {
        "id": "K2Qb5kSJhPna",
        "colab_type": "text"
      },
      "source": [
        "## **Project Plan**"
      ]
    },
    {
      "cell_type": "markdown",
      "metadata": {
        "id": "YWhbxjRQhVAa",
        "colab_type": "text"
      },
      "source": [
        "Before we split the data into training set and testing test, data preprocessing is required to be done. It is crucial in any data mining process as they will directly impact success rate of the project. In this context, the categorical and numerical columns are identified. Since unclean data such as missing attribute, attribute values, contain noise or outliers and duplicate or wrong data may degrade the quality of result. Thus, data cleaning process is important to be executed for the dataset.  After that, we proceed to data modelling at which the dataset is splitted into 70% train set and 30% test set. For the algorithm, we have implemented Logistic Regression, Decision Tree, Random Forest and Gaussian Naves Bayes. The evaluation is based on the aspects of accuracy, precision, recall and F1 score."
      ]
    },
    {
      "cell_type": "markdown",
      "metadata": {
        "id": "H3SXTra6hxaM",
        "colab_type": "text"
      },
      "source": [
        "### **Initial assessment of tools and implementation**"
      ]
    },
    {
      "cell_type": "code",
      "metadata": {
        "id": "wqskOhp1h65j",
        "colab_type": "code",
        "colab": {}
      },
      "source": [
        "#for data preprocessing\n",
        "import pandas as pd\n",
        "\n",
        "#for matrix math\n",
        "import numpy as np\n",
        "\n",
        "#for plotting\n",
        "import matplotlib.pyplot as plt\n",
        "import seaborn as sns\n",
        "\n",
        "#style plotting by using seaborn\n",
        "sns.set(style='darkgrid')\n",
        "\n",
        "#graph plotting by using matplotlib\n",
        "%matplotlib inline\n",
        "\n",
        "#to important csv from collab directory\n",
        "import os\n",
        "for dirname, _, filenames in os.walk('/content/hotel_bookings.csv'):\n",
        "    for filename in filenames:\n",
        "        print(os.path.join(dirname, filename))\n",
        "\n",
        "# Load modules for machine learning\n",
        "from sklearn.model_selection import train_test_split, cross_val_score\n",
        "from sklearn.preprocessing import StandardScaler\n",
        "from sklearn.metrics import accuracy_score\n",
        "from sklearn.metrics import recall_score\n",
        "from sklearn.metrics import precision_score\n",
        "from sklearn.metrics import f1_score\n",
        "from sklearn.metrics import classification_report, confusion_matrix\n",
        "\n",
        "# Load module for ROC\n",
        "from sklearn.metrics import roc_curve, roc_auc_score"
      ],
      "execution_count": null,
      "outputs": []
    },
    {
      "cell_type": "markdown",
      "metadata": {
        "id": "6uY6mhuyh_6K",
        "colab_type": "text"
      },
      "source": [
        "## **Data Understanding**"
      ]
    },
    {
      "cell_type": "markdown",
      "metadata": {
        "id": "rGsRpDuIiCh6",
        "colab_type": "text"
      },
      "source": [
        "### **Describe data**"
      ]
    },
    {
      "cell_type": "code",
      "metadata": {
        "id": "UTLQ-k0IuhYq",
        "colab_type": "code",
        "colab": {
          "base_uri": "https://localhost:8080/",
          "height": 301
        },
        "outputId": "8d023eed-5e95-4b6b-fc7e-ad670f31d6e0"
      },
      "source": [
        "# load the dataset\n",
        "df = pd.read_csv('/content/hotel_bookings.csv')\n",
        "df.head()"
      ],
      "execution_count": null,
      "outputs": [
        {
          "output_type": "execute_result",
          "data": {
            "text/html": [
              "<div>\n",
              "<style scoped>\n",
              "    .dataframe tbody tr th:only-of-type {\n",
              "        vertical-align: middle;\n",
              "    }\n",
              "\n",
              "    .dataframe tbody tr th {\n",
              "        vertical-align: top;\n",
              "    }\n",
              "\n",
              "    .dataframe thead th {\n",
              "        text-align: right;\n",
              "    }\n",
              "</style>\n",
              "<table border=\"1\" class=\"dataframe\">\n",
              "  <thead>\n",
              "    <tr style=\"text-align: right;\">\n",
              "      <th></th>\n",
              "      <th>hotel</th>\n",
              "      <th>is_canceled</th>\n",
              "      <th>lead_time</th>\n",
              "      <th>arrival_date_year</th>\n",
              "      <th>arrival_date_month</th>\n",
              "      <th>arrival_date_week_number</th>\n",
              "      <th>arrival_date_day_of_month</th>\n",
              "      <th>stays_in_weekend_nights</th>\n",
              "      <th>stays_in_week_nights</th>\n",
              "      <th>adults</th>\n",
              "      <th>children</th>\n",
              "      <th>babies</th>\n",
              "      <th>meal</th>\n",
              "      <th>country</th>\n",
              "      <th>market_segment</th>\n",
              "      <th>distribution_channel</th>\n",
              "      <th>is_repeated_guest</th>\n",
              "      <th>previous_cancellations</th>\n",
              "      <th>previous_bookings_not_canceled</th>\n",
              "      <th>reserved_room_type</th>\n",
              "      <th>assigned_room_type</th>\n",
              "      <th>booking_changes</th>\n",
              "      <th>deposit_type</th>\n",
              "      <th>agent</th>\n",
              "      <th>company</th>\n",
              "      <th>days_in_waiting_list</th>\n",
              "      <th>customer_type</th>\n",
              "      <th>adr</th>\n",
              "      <th>required_car_parking_spaces</th>\n",
              "      <th>total_of_special_requests</th>\n",
              "      <th>reservation_status</th>\n",
              "      <th>reservation_status_date</th>\n",
              "    </tr>\n",
              "  </thead>\n",
              "  <tbody>\n",
              "    <tr>\n",
              "      <th>0</th>\n",
              "      <td>Resort Hotel</td>\n",
              "      <td>0</td>\n",
              "      <td>342</td>\n",
              "      <td>2015</td>\n",
              "      <td>July</td>\n",
              "      <td>27</td>\n",
              "      <td>1</td>\n",
              "      <td>0</td>\n",
              "      <td>0</td>\n",
              "      <td>2</td>\n",
              "      <td>0.0</td>\n",
              "      <td>0</td>\n",
              "      <td>BB</td>\n",
              "      <td>PRT</td>\n",
              "      <td>Direct</td>\n",
              "      <td>Direct</td>\n",
              "      <td>0</td>\n",
              "      <td>0</td>\n",
              "      <td>0</td>\n",
              "      <td>C</td>\n",
              "      <td>C</td>\n",
              "      <td>3</td>\n",
              "      <td>No Deposit</td>\n",
              "      <td>NaN</td>\n",
              "      <td>NaN</td>\n",
              "      <td>0</td>\n",
              "      <td>Transient</td>\n",
              "      <td>0.0</td>\n",
              "      <td>0</td>\n",
              "      <td>0</td>\n",
              "      <td>Check-Out</td>\n",
              "      <td>2015-07-01</td>\n",
              "    </tr>\n",
              "    <tr>\n",
              "      <th>1</th>\n",
              "      <td>Resort Hotel</td>\n",
              "      <td>0</td>\n",
              "      <td>737</td>\n",
              "      <td>2015</td>\n",
              "      <td>July</td>\n",
              "      <td>27</td>\n",
              "      <td>1</td>\n",
              "      <td>0</td>\n",
              "      <td>0</td>\n",
              "      <td>2</td>\n",
              "      <td>0.0</td>\n",
              "      <td>0</td>\n",
              "      <td>BB</td>\n",
              "      <td>PRT</td>\n",
              "      <td>Direct</td>\n",
              "      <td>Direct</td>\n",
              "      <td>0</td>\n",
              "      <td>0</td>\n",
              "      <td>0</td>\n",
              "      <td>C</td>\n",
              "      <td>C</td>\n",
              "      <td>4</td>\n",
              "      <td>No Deposit</td>\n",
              "      <td>NaN</td>\n",
              "      <td>NaN</td>\n",
              "      <td>0</td>\n",
              "      <td>Transient</td>\n",
              "      <td>0.0</td>\n",
              "      <td>0</td>\n",
              "      <td>0</td>\n",
              "      <td>Check-Out</td>\n",
              "      <td>2015-07-01</td>\n",
              "    </tr>\n",
              "    <tr>\n",
              "      <th>2</th>\n",
              "      <td>Resort Hotel</td>\n",
              "      <td>0</td>\n",
              "      <td>7</td>\n",
              "      <td>2015</td>\n",
              "      <td>July</td>\n",
              "      <td>27</td>\n",
              "      <td>1</td>\n",
              "      <td>0</td>\n",
              "      <td>1</td>\n",
              "      <td>1</td>\n",
              "      <td>0.0</td>\n",
              "      <td>0</td>\n",
              "      <td>BB</td>\n",
              "      <td>GBR</td>\n",
              "      <td>Direct</td>\n",
              "      <td>Direct</td>\n",
              "      <td>0</td>\n",
              "      <td>0</td>\n",
              "      <td>0</td>\n",
              "      <td>A</td>\n",
              "      <td>C</td>\n",
              "      <td>0</td>\n",
              "      <td>No Deposit</td>\n",
              "      <td>NaN</td>\n",
              "      <td>NaN</td>\n",
              "      <td>0</td>\n",
              "      <td>Transient</td>\n",
              "      <td>75.0</td>\n",
              "      <td>0</td>\n",
              "      <td>0</td>\n",
              "      <td>Check-Out</td>\n",
              "      <td>2015-07-02</td>\n",
              "    </tr>\n",
              "    <tr>\n",
              "      <th>3</th>\n",
              "      <td>Resort Hotel</td>\n",
              "      <td>0</td>\n",
              "      <td>13</td>\n",
              "      <td>2015</td>\n",
              "      <td>July</td>\n",
              "      <td>27</td>\n",
              "      <td>1</td>\n",
              "      <td>0</td>\n",
              "      <td>1</td>\n",
              "      <td>1</td>\n",
              "      <td>0.0</td>\n",
              "      <td>0</td>\n",
              "      <td>BB</td>\n",
              "      <td>GBR</td>\n",
              "      <td>Corporate</td>\n",
              "      <td>Corporate</td>\n",
              "      <td>0</td>\n",
              "      <td>0</td>\n",
              "      <td>0</td>\n",
              "      <td>A</td>\n",
              "      <td>A</td>\n",
              "      <td>0</td>\n",
              "      <td>No Deposit</td>\n",
              "      <td>304.0</td>\n",
              "      <td>NaN</td>\n",
              "      <td>0</td>\n",
              "      <td>Transient</td>\n",
              "      <td>75.0</td>\n",
              "      <td>0</td>\n",
              "      <td>0</td>\n",
              "      <td>Check-Out</td>\n",
              "      <td>2015-07-02</td>\n",
              "    </tr>\n",
              "    <tr>\n",
              "      <th>4</th>\n",
              "      <td>Resort Hotel</td>\n",
              "      <td>0</td>\n",
              "      <td>14</td>\n",
              "      <td>2015</td>\n",
              "      <td>July</td>\n",
              "      <td>27</td>\n",
              "      <td>1</td>\n",
              "      <td>0</td>\n",
              "      <td>2</td>\n",
              "      <td>2</td>\n",
              "      <td>0.0</td>\n",
              "      <td>0</td>\n",
              "      <td>BB</td>\n",
              "      <td>GBR</td>\n",
              "      <td>Online TA</td>\n",
              "      <td>TA/TO</td>\n",
              "      <td>0</td>\n",
              "      <td>0</td>\n",
              "      <td>0</td>\n",
              "      <td>A</td>\n",
              "      <td>A</td>\n",
              "      <td>0</td>\n",
              "      <td>No Deposit</td>\n",
              "      <td>240.0</td>\n",
              "      <td>NaN</td>\n",
              "      <td>0</td>\n",
              "      <td>Transient</td>\n",
              "      <td>98.0</td>\n",
              "      <td>0</td>\n",
              "      <td>1</td>\n",
              "      <td>Check-Out</td>\n",
              "      <td>2015-07-03</td>\n",
              "    </tr>\n",
              "  </tbody>\n",
              "</table>\n",
              "</div>"
            ],
            "text/plain": [
              "          hotel  is_canceled  ...  reservation_status  reservation_status_date\n",
              "0  Resort Hotel            0  ...           Check-Out               2015-07-01\n",
              "1  Resort Hotel            0  ...           Check-Out               2015-07-01\n",
              "2  Resort Hotel            0  ...           Check-Out               2015-07-02\n",
              "3  Resort Hotel            0  ...           Check-Out               2015-07-02\n",
              "4  Resort Hotel            0  ...           Check-Out               2015-07-03\n",
              "\n",
              "[5 rows x 32 columns]"
            ]
          },
          "metadata": {
            "tags": []
          },
          "execution_count": 4
        }
      ]
    },
    {
      "cell_type": "code",
      "metadata": {
        "id": "_zJ5z03Cv266",
        "colab_type": "code",
        "colab": {
          "base_uri": "https://localhost:8080/",
          "height": 301
        },
        "outputId": "7f7c463d-49c3-4d40-ecd6-10a41e09b142"
      },
      "source": [
        "df.tail()"
      ],
      "execution_count": null,
      "outputs": [
        {
          "output_type": "execute_result",
          "data": {
            "text/html": [
              "<div>\n",
              "<style scoped>\n",
              "    .dataframe tbody tr th:only-of-type {\n",
              "        vertical-align: middle;\n",
              "    }\n",
              "\n",
              "    .dataframe tbody tr th {\n",
              "        vertical-align: top;\n",
              "    }\n",
              "\n",
              "    .dataframe thead th {\n",
              "        text-align: right;\n",
              "    }\n",
              "</style>\n",
              "<table border=\"1\" class=\"dataframe\">\n",
              "  <thead>\n",
              "    <tr style=\"text-align: right;\">\n",
              "      <th></th>\n",
              "      <th>hotel</th>\n",
              "      <th>is_canceled</th>\n",
              "      <th>lead_time</th>\n",
              "      <th>arrival_date_year</th>\n",
              "      <th>arrival_date_month</th>\n",
              "      <th>arrival_date_week_number</th>\n",
              "      <th>arrival_date_day_of_month</th>\n",
              "      <th>stays_in_weekend_nights</th>\n",
              "      <th>stays_in_week_nights</th>\n",
              "      <th>adults</th>\n",
              "      <th>children</th>\n",
              "      <th>babies</th>\n",
              "      <th>meal</th>\n",
              "      <th>country</th>\n",
              "      <th>market_segment</th>\n",
              "      <th>distribution_channel</th>\n",
              "      <th>is_repeated_guest</th>\n",
              "      <th>previous_cancellations</th>\n",
              "      <th>previous_bookings_not_canceled</th>\n",
              "      <th>reserved_room_type</th>\n",
              "      <th>assigned_room_type</th>\n",
              "      <th>booking_changes</th>\n",
              "      <th>deposit_type</th>\n",
              "      <th>agent</th>\n",
              "      <th>company</th>\n",
              "      <th>days_in_waiting_list</th>\n",
              "      <th>customer_type</th>\n",
              "      <th>adr</th>\n",
              "      <th>required_car_parking_spaces</th>\n",
              "      <th>total_of_special_requests</th>\n",
              "      <th>reservation_status</th>\n",
              "      <th>reservation_status_date</th>\n",
              "    </tr>\n",
              "  </thead>\n",
              "  <tbody>\n",
              "    <tr>\n",
              "      <th>119385</th>\n",
              "      <td>City Hotel</td>\n",
              "      <td>0</td>\n",
              "      <td>23</td>\n",
              "      <td>2017</td>\n",
              "      <td>August</td>\n",
              "      <td>35</td>\n",
              "      <td>30</td>\n",
              "      <td>2</td>\n",
              "      <td>5</td>\n",
              "      <td>2</td>\n",
              "      <td>0.0</td>\n",
              "      <td>0</td>\n",
              "      <td>BB</td>\n",
              "      <td>BEL</td>\n",
              "      <td>Offline TA/TO</td>\n",
              "      <td>TA/TO</td>\n",
              "      <td>0</td>\n",
              "      <td>0</td>\n",
              "      <td>0</td>\n",
              "      <td>A</td>\n",
              "      <td>A</td>\n",
              "      <td>0</td>\n",
              "      <td>No Deposit</td>\n",
              "      <td>394.0</td>\n",
              "      <td>NaN</td>\n",
              "      <td>0</td>\n",
              "      <td>Transient</td>\n",
              "      <td>96.14</td>\n",
              "      <td>0</td>\n",
              "      <td>0</td>\n",
              "      <td>Check-Out</td>\n",
              "      <td>2017-09-06</td>\n",
              "    </tr>\n",
              "    <tr>\n",
              "      <th>119386</th>\n",
              "      <td>City Hotel</td>\n",
              "      <td>0</td>\n",
              "      <td>102</td>\n",
              "      <td>2017</td>\n",
              "      <td>August</td>\n",
              "      <td>35</td>\n",
              "      <td>31</td>\n",
              "      <td>2</td>\n",
              "      <td>5</td>\n",
              "      <td>3</td>\n",
              "      <td>0.0</td>\n",
              "      <td>0</td>\n",
              "      <td>BB</td>\n",
              "      <td>FRA</td>\n",
              "      <td>Online TA</td>\n",
              "      <td>TA/TO</td>\n",
              "      <td>0</td>\n",
              "      <td>0</td>\n",
              "      <td>0</td>\n",
              "      <td>E</td>\n",
              "      <td>E</td>\n",
              "      <td>0</td>\n",
              "      <td>No Deposit</td>\n",
              "      <td>9.0</td>\n",
              "      <td>NaN</td>\n",
              "      <td>0</td>\n",
              "      <td>Transient</td>\n",
              "      <td>225.43</td>\n",
              "      <td>0</td>\n",
              "      <td>2</td>\n",
              "      <td>Check-Out</td>\n",
              "      <td>2017-09-07</td>\n",
              "    </tr>\n",
              "    <tr>\n",
              "      <th>119387</th>\n",
              "      <td>City Hotel</td>\n",
              "      <td>0</td>\n",
              "      <td>34</td>\n",
              "      <td>2017</td>\n",
              "      <td>August</td>\n",
              "      <td>35</td>\n",
              "      <td>31</td>\n",
              "      <td>2</td>\n",
              "      <td>5</td>\n",
              "      <td>2</td>\n",
              "      <td>0.0</td>\n",
              "      <td>0</td>\n",
              "      <td>BB</td>\n",
              "      <td>DEU</td>\n",
              "      <td>Online TA</td>\n",
              "      <td>TA/TO</td>\n",
              "      <td>0</td>\n",
              "      <td>0</td>\n",
              "      <td>0</td>\n",
              "      <td>D</td>\n",
              "      <td>D</td>\n",
              "      <td>0</td>\n",
              "      <td>No Deposit</td>\n",
              "      <td>9.0</td>\n",
              "      <td>NaN</td>\n",
              "      <td>0</td>\n",
              "      <td>Transient</td>\n",
              "      <td>157.71</td>\n",
              "      <td>0</td>\n",
              "      <td>4</td>\n",
              "      <td>Check-Out</td>\n",
              "      <td>2017-09-07</td>\n",
              "    </tr>\n",
              "    <tr>\n",
              "      <th>119388</th>\n",
              "      <td>City Hotel</td>\n",
              "      <td>0</td>\n",
              "      <td>109</td>\n",
              "      <td>2017</td>\n",
              "      <td>August</td>\n",
              "      <td>35</td>\n",
              "      <td>31</td>\n",
              "      <td>2</td>\n",
              "      <td>5</td>\n",
              "      <td>2</td>\n",
              "      <td>0.0</td>\n",
              "      <td>0</td>\n",
              "      <td>BB</td>\n",
              "      <td>GBR</td>\n",
              "      <td>Online TA</td>\n",
              "      <td>TA/TO</td>\n",
              "      <td>0</td>\n",
              "      <td>0</td>\n",
              "      <td>0</td>\n",
              "      <td>A</td>\n",
              "      <td>A</td>\n",
              "      <td>0</td>\n",
              "      <td>No Deposit</td>\n",
              "      <td>89.0</td>\n",
              "      <td>NaN</td>\n",
              "      <td>0</td>\n",
              "      <td>Transient</td>\n",
              "      <td>104.40</td>\n",
              "      <td>0</td>\n",
              "      <td>0</td>\n",
              "      <td>Check-Out</td>\n",
              "      <td>2017-09-07</td>\n",
              "    </tr>\n",
              "    <tr>\n",
              "      <th>119389</th>\n",
              "      <td>City Hotel</td>\n",
              "      <td>0</td>\n",
              "      <td>205</td>\n",
              "      <td>2017</td>\n",
              "      <td>August</td>\n",
              "      <td>35</td>\n",
              "      <td>29</td>\n",
              "      <td>2</td>\n",
              "      <td>7</td>\n",
              "      <td>2</td>\n",
              "      <td>0.0</td>\n",
              "      <td>0</td>\n",
              "      <td>HB</td>\n",
              "      <td>DEU</td>\n",
              "      <td>Online TA</td>\n",
              "      <td>TA/TO</td>\n",
              "      <td>0</td>\n",
              "      <td>0</td>\n",
              "      <td>0</td>\n",
              "      <td>A</td>\n",
              "      <td>A</td>\n",
              "      <td>0</td>\n",
              "      <td>No Deposit</td>\n",
              "      <td>9.0</td>\n",
              "      <td>NaN</td>\n",
              "      <td>0</td>\n",
              "      <td>Transient</td>\n",
              "      <td>151.20</td>\n",
              "      <td>0</td>\n",
              "      <td>2</td>\n",
              "      <td>Check-Out</td>\n",
              "      <td>2017-09-07</td>\n",
              "    </tr>\n",
              "  </tbody>\n",
              "</table>\n",
              "</div>"
            ],
            "text/plain": [
              "             hotel  is_canceled  ...  reservation_status  reservation_status_date\n",
              "119385  City Hotel            0  ...           Check-Out               2017-09-06\n",
              "119386  City Hotel            0  ...           Check-Out               2017-09-07\n",
              "119387  City Hotel            0  ...           Check-Out               2017-09-07\n",
              "119388  City Hotel            0  ...           Check-Out               2017-09-07\n",
              "119389  City Hotel            0  ...           Check-Out               2017-09-07\n",
              "\n",
              "[5 rows x 32 columns]"
            ]
          },
          "metadata": {
            "tags": []
          },
          "execution_count": 5
        }
      ]
    },
    {
      "cell_type": "code",
      "metadata": {
        "id": "KLuMtIKsvimy",
        "colab_type": "code",
        "colab": {
          "base_uri": "https://localhost:8080/",
          "height": 34
        },
        "outputId": "0f785a0d-88e4-473c-a2e9-b909e53f3115"
      },
      "source": [
        "df.shape"
      ],
      "execution_count": null,
      "outputs": [
        {
          "output_type": "execute_result",
          "data": {
            "text/plain": [
              "(119390, 32)"
            ]
          },
          "metadata": {
            "tags": []
          },
          "execution_count": 6
        }
      ]
    },
    {
      "cell_type": "code",
      "metadata": {
        "id": "NiYCf_YlvDxY",
        "colab_type": "code",
        "colab": {
          "base_uri": "https://localhost:8080/",
          "height": 307
        },
        "outputId": "5bd5a0ee-7ccf-416b-aa36-4ea1e01de68e"
      },
      "source": [
        "df.describe()"
      ],
      "execution_count": null,
      "outputs": [
        {
          "output_type": "execute_result",
          "data": {
            "text/html": [
              "<div>\n",
              "<style scoped>\n",
              "    .dataframe tbody tr th:only-of-type {\n",
              "        vertical-align: middle;\n",
              "    }\n",
              "\n",
              "    .dataframe tbody tr th {\n",
              "        vertical-align: top;\n",
              "    }\n",
              "\n",
              "    .dataframe thead th {\n",
              "        text-align: right;\n",
              "    }\n",
              "</style>\n",
              "<table border=\"1\" class=\"dataframe\">\n",
              "  <thead>\n",
              "    <tr style=\"text-align: right;\">\n",
              "      <th></th>\n",
              "      <th>is_canceled</th>\n",
              "      <th>lead_time</th>\n",
              "      <th>arrival_date_year</th>\n",
              "      <th>arrival_date_week_number</th>\n",
              "      <th>arrival_date_day_of_month</th>\n",
              "      <th>stays_in_weekend_nights</th>\n",
              "      <th>stays_in_week_nights</th>\n",
              "      <th>adults</th>\n",
              "      <th>children</th>\n",
              "      <th>babies</th>\n",
              "      <th>is_repeated_guest</th>\n",
              "      <th>previous_cancellations</th>\n",
              "      <th>previous_bookings_not_canceled</th>\n",
              "      <th>booking_changes</th>\n",
              "      <th>agent</th>\n",
              "      <th>company</th>\n",
              "      <th>days_in_waiting_list</th>\n",
              "      <th>adr</th>\n",
              "      <th>required_car_parking_spaces</th>\n",
              "      <th>total_of_special_requests</th>\n",
              "    </tr>\n",
              "  </thead>\n",
              "  <tbody>\n",
              "    <tr>\n",
              "      <th>count</th>\n",
              "      <td>119390.000000</td>\n",
              "      <td>119390.000000</td>\n",
              "      <td>119390.000000</td>\n",
              "      <td>119390.000000</td>\n",
              "      <td>119390.000000</td>\n",
              "      <td>119390.000000</td>\n",
              "      <td>119390.000000</td>\n",
              "      <td>119390.000000</td>\n",
              "      <td>119386.000000</td>\n",
              "      <td>119390.000000</td>\n",
              "      <td>119390.000000</td>\n",
              "      <td>119390.000000</td>\n",
              "      <td>119390.000000</td>\n",
              "      <td>119390.000000</td>\n",
              "      <td>103050.000000</td>\n",
              "      <td>6797.000000</td>\n",
              "      <td>119390.000000</td>\n",
              "      <td>119390.000000</td>\n",
              "      <td>119390.000000</td>\n",
              "      <td>119390.000000</td>\n",
              "    </tr>\n",
              "    <tr>\n",
              "      <th>mean</th>\n",
              "      <td>0.370416</td>\n",
              "      <td>104.011416</td>\n",
              "      <td>2016.156554</td>\n",
              "      <td>27.165173</td>\n",
              "      <td>15.798241</td>\n",
              "      <td>0.927599</td>\n",
              "      <td>2.500302</td>\n",
              "      <td>1.856403</td>\n",
              "      <td>0.103890</td>\n",
              "      <td>0.007949</td>\n",
              "      <td>0.031912</td>\n",
              "      <td>0.087118</td>\n",
              "      <td>0.137097</td>\n",
              "      <td>0.221124</td>\n",
              "      <td>86.693382</td>\n",
              "      <td>189.266735</td>\n",
              "      <td>2.321149</td>\n",
              "      <td>101.831122</td>\n",
              "      <td>0.062518</td>\n",
              "      <td>0.571363</td>\n",
              "    </tr>\n",
              "    <tr>\n",
              "      <th>std</th>\n",
              "      <td>0.482918</td>\n",
              "      <td>106.863097</td>\n",
              "      <td>0.707476</td>\n",
              "      <td>13.605138</td>\n",
              "      <td>8.780829</td>\n",
              "      <td>0.998613</td>\n",
              "      <td>1.908286</td>\n",
              "      <td>0.579261</td>\n",
              "      <td>0.398561</td>\n",
              "      <td>0.097436</td>\n",
              "      <td>0.175767</td>\n",
              "      <td>0.844336</td>\n",
              "      <td>1.497437</td>\n",
              "      <td>0.652306</td>\n",
              "      <td>110.774548</td>\n",
              "      <td>131.655015</td>\n",
              "      <td>17.594721</td>\n",
              "      <td>50.535790</td>\n",
              "      <td>0.245291</td>\n",
              "      <td>0.792798</td>\n",
              "    </tr>\n",
              "    <tr>\n",
              "      <th>min</th>\n",
              "      <td>0.000000</td>\n",
              "      <td>0.000000</td>\n",
              "      <td>2015.000000</td>\n",
              "      <td>1.000000</td>\n",
              "      <td>1.000000</td>\n",
              "      <td>0.000000</td>\n",
              "      <td>0.000000</td>\n",
              "      <td>0.000000</td>\n",
              "      <td>0.000000</td>\n",
              "      <td>0.000000</td>\n",
              "      <td>0.000000</td>\n",
              "      <td>0.000000</td>\n",
              "      <td>0.000000</td>\n",
              "      <td>0.000000</td>\n",
              "      <td>1.000000</td>\n",
              "      <td>6.000000</td>\n",
              "      <td>0.000000</td>\n",
              "      <td>-6.380000</td>\n",
              "      <td>0.000000</td>\n",
              "      <td>0.000000</td>\n",
              "    </tr>\n",
              "    <tr>\n",
              "      <th>25%</th>\n",
              "      <td>0.000000</td>\n",
              "      <td>18.000000</td>\n",
              "      <td>2016.000000</td>\n",
              "      <td>16.000000</td>\n",
              "      <td>8.000000</td>\n",
              "      <td>0.000000</td>\n",
              "      <td>1.000000</td>\n",
              "      <td>2.000000</td>\n",
              "      <td>0.000000</td>\n",
              "      <td>0.000000</td>\n",
              "      <td>0.000000</td>\n",
              "      <td>0.000000</td>\n",
              "      <td>0.000000</td>\n",
              "      <td>0.000000</td>\n",
              "      <td>9.000000</td>\n",
              "      <td>62.000000</td>\n",
              "      <td>0.000000</td>\n",
              "      <td>69.290000</td>\n",
              "      <td>0.000000</td>\n",
              "      <td>0.000000</td>\n",
              "    </tr>\n",
              "    <tr>\n",
              "      <th>50%</th>\n",
              "      <td>0.000000</td>\n",
              "      <td>69.000000</td>\n",
              "      <td>2016.000000</td>\n",
              "      <td>28.000000</td>\n",
              "      <td>16.000000</td>\n",
              "      <td>1.000000</td>\n",
              "      <td>2.000000</td>\n",
              "      <td>2.000000</td>\n",
              "      <td>0.000000</td>\n",
              "      <td>0.000000</td>\n",
              "      <td>0.000000</td>\n",
              "      <td>0.000000</td>\n",
              "      <td>0.000000</td>\n",
              "      <td>0.000000</td>\n",
              "      <td>14.000000</td>\n",
              "      <td>179.000000</td>\n",
              "      <td>0.000000</td>\n",
              "      <td>94.575000</td>\n",
              "      <td>0.000000</td>\n",
              "      <td>0.000000</td>\n",
              "    </tr>\n",
              "    <tr>\n",
              "      <th>75%</th>\n",
              "      <td>1.000000</td>\n",
              "      <td>160.000000</td>\n",
              "      <td>2017.000000</td>\n",
              "      <td>38.000000</td>\n",
              "      <td>23.000000</td>\n",
              "      <td>2.000000</td>\n",
              "      <td>3.000000</td>\n",
              "      <td>2.000000</td>\n",
              "      <td>0.000000</td>\n",
              "      <td>0.000000</td>\n",
              "      <td>0.000000</td>\n",
              "      <td>0.000000</td>\n",
              "      <td>0.000000</td>\n",
              "      <td>0.000000</td>\n",
              "      <td>229.000000</td>\n",
              "      <td>270.000000</td>\n",
              "      <td>0.000000</td>\n",
              "      <td>126.000000</td>\n",
              "      <td>0.000000</td>\n",
              "      <td>1.000000</td>\n",
              "    </tr>\n",
              "    <tr>\n",
              "      <th>max</th>\n",
              "      <td>1.000000</td>\n",
              "      <td>737.000000</td>\n",
              "      <td>2017.000000</td>\n",
              "      <td>53.000000</td>\n",
              "      <td>31.000000</td>\n",
              "      <td>19.000000</td>\n",
              "      <td>50.000000</td>\n",
              "      <td>55.000000</td>\n",
              "      <td>10.000000</td>\n",
              "      <td>10.000000</td>\n",
              "      <td>1.000000</td>\n",
              "      <td>26.000000</td>\n",
              "      <td>72.000000</td>\n",
              "      <td>21.000000</td>\n",
              "      <td>535.000000</td>\n",
              "      <td>543.000000</td>\n",
              "      <td>391.000000</td>\n",
              "      <td>5400.000000</td>\n",
              "      <td>8.000000</td>\n",
              "      <td>5.000000</td>\n",
              "    </tr>\n",
              "  </tbody>\n",
              "</table>\n",
              "</div>"
            ],
            "text/plain": [
              "         is_canceled  ...  total_of_special_requests\n",
              "count  119390.000000  ...              119390.000000\n",
              "mean        0.370416  ...                   0.571363\n",
              "std         0.482918  ...                   0.792798\n",
              "min         0.000000  ...                   0.000000\n",
              "25%         0.000000  ...                   0.000000\n",
              "50%         0.000000  ...                   0.000000\n",
              "75%         1.000000  ...                   1.000000\n",
              "max         1.000000  ...                   5.000000\n",
              "\n",
              "[8 rows x 20 columns]"
            ]
          },
          "metadata": {
            "tags": []
          },
          "execution_count": 7
        }
      ]
    },
    {
      "cell_type": "code",
      "metadata": {
        "id": "hcbBrnMYwGO7",
        "colab_type": "code",
        "colab": {
          "base_uri": "https://localhost:8080/",
          "height": 603
        },
        "outputId": "be7a6964-e87e-4726-f2ca-a8d3dffc866a"
      },
      "source": [
        "df.dtypes"
      ],
      "execution_count": null,
      "outputs": [
        {
          "output_type": "execute_result",
          "data": {
            "text/plain": [
              "hotel                              object\n",
              "is_canceled                         int64\n",
              "lead_time                           int64\n",
              "arrival_date_year                   int64\n",
              "arrival_date_month                 object\n",
              "arrival_date_week_number            int64\n",
              "arrival_date_day_of_month           int64\n",
              "stays_in_weekend_nights             int64\n",
              "stays_in_week_nights                int64\n",
              "adults                              int64\n",
              "children                          float64\n",
              "babies                              int64\n",
              "meal                               object\n",
              "country                            object\n",
              "market_segment                     object\n",
              "distribution_channel               object\n",
              "is_repeated_guest                   int64\n",
              "previous_cancellations              int64\n",
              "previous_bookings_not_canceled      int64\n",
              "reserved_room_type                 object\n",
              "assigned_room_type                 object\n",
              "booking_changes                     int64\n",
              "deposit_type                       object\n",
              "agent                             float64\n",
              "company                           float64\n",
              "days_in_waiting_list                int64\n",
              "customer_type                      object\n",
              "adr                               float64\n",
              "required_car_parking_spaces         int64\n",
              "total_of_special_requests           int64\n",
              "reservation_status                 object\n",
              "reservation_status_date            object\n",
              "dtype: object"
            ]
          },
          "metadata": {
            "tags": []
          },
          "execution_count": 8
        }
      ]
    },
    {
      "cell_type": "code",
      "metadata": {
        "id": "9yweJdci-69Q",
        "colab_type": "code",
        "colab": {
          "base_uri": "https://localhost:8080/",
          "height": 603
        },
        "outputId": "340dac67-2c91-4340-c89a-77214c116d11"
      },
      "source": [
        "df.isnull().sum()"
      ],
      "execution_count": null,
      "outputs": [
        {
          "output_type": "execute_result",
          "data": {
            "text/plain": [
              "hotel                                  0\n",
              "is_canceled                            0\n",
              "lead_time                              0\n",
              "arrival_date_year                      0\n",
              "arrival_date_month                     0\n",
              "arrival_date_week_number               0\n",
              "arrival_date_day_of_month              0\n",
              "stays_in_weekend_nights                0\n",
              "stays_in_week_nights                   0\n",
              "adults                                 0\n",
              "children                               4\n",
              "babies                                 0\n",
              "meal                                   0\n",
              "country                              488\n",
              "market_segment                         0\n",
              "distribution_channel                   0\n",
              "is_repeated_guest                      0\n",
              "previous_cancellations                 0\n",
              "previous_bookings_not_canceled         0\n",
              "reserved_room_type                     0\n",
              "assigned_room_type                     0\n",
              "booking_changes                        0\n",
              "deposit_type                           0\n",
              "agent                              16340\n",
              "company                           112593\n",
              "days_in_waiting_list                   0\n",
              "customer_type                          0\n",
              "adr                                    0\n",
              "required_car_parking_spaces            0\n",
              "total_of_special_requests              0\n",
              "reservation_status                     0\n",
              "reservation_status_date                0\n",
              "dtype: int64"
            ]
          },
          "metadata": {
            "tags": []
          },
          "execution_count": 9
        }
      ]
    },
    {
      "cell_type": "markdown",
      "metadata": {
        "id": "qOTKtA3fiF9b",
        "colab_type": "text"
      },
      "source": [
        "The dataset has 32 columns and with 111,304 entries in total. The data types for the dataset consists of objects type, integer type, and float type in which 12 columns are object type, 9 columns is integer type and 11 columns is float type. "
      ]
    },
    {
      "cell_type": "markdown",
      "metadata": {
        "id": "5yWKXiIqiIwR",
        "colab_type": "text"
      },
      "source": [
        "**Float type**"
      ]
    },
    {
      "cell_type": "markdown",
      "metadata": {
        "id": "fOpfIuA1iQa2",
        "colab_type": "text"
      },
      "source": [
        "\"children\", \"is_repeated_guest\", \"previous_cancellations\", previous_bookings_not_canceled, \"booking_changes\", \"agent\", \"company\", \"days_in_waiting_list\", \"adr\", \"required_car_parking_spaces\", \"total_of_special_requests\""
      ]
    },
    {
      "cell_type": "markdown",
      "metadata": {
        "id": "N7FJ5fhTiS-q",
        "colab_type": "text"
      },
      "source": [
        "**Integer type**"
      ]
    },
    {
      "cell_type": "markdown",
      "metadata": {
        "id": "PVXMvK6NiatN",
        "colab_type": "text"
      },
      "source": [
        "\"is_canceled\", \"lead_time\", \"arrival_date_year\", \"arrival_date_week_number\", \"arrival_date_day_of_month\", \"stays_in_weekend_nights\", \"stays_in_week_nights\", \"adults\", \"babies\""
      ]
    },
    {
      "cell_type": "markdown",
      "metadata": {
        "id": "zgB5Vqxlifz0",
        "colab_type": "text"
      },
      "source": [
        "**Object type**"
      ]
    },
    {
      "cell_type": "markdown",
      "metadata": {
        "id": "Z8-uAv2S8Jhz",
        "colab_type": "text"
      },
      "source": [
        "\"hotel\", \"arrival_date_month\", \"meal\", \"country\", \"market_segment\", \"distribution_channel\", \"reserved_room_type\", \"assigned_room_type\", \"deposit_type\", \"customer_type\", \"reservation_status\", \"reservation_status_date\" "
      ]
    },
    {
      "cell_type": "markdown",
      "metadata": {
        "id": "T26pVrW3idSn",
        "colab_type": "text"
      },
      "source": [
        "**Categorical Values**"
      ]
    },
    {
      "cell_type": "markdown",
      "metadata": {
        "id": "z971ktr1jFMf",
        "colab_type": "text"
      },
      "source": [
        "\"is_canceled\", \"arrival_date_month\", \"meal\", \"market_segment\", \"distribution_channel\", \"reserved_room_type\", \"is_repeated_guest\", \"deposit_type\", \"customer_type\""
      ]
    },
    {
      "cell_type": "markdown",
      "metadata": {
        "id": "ZboUVAaUjNsM",
        "colab_type": "text"
      },
      "source": [
        "**Numerical Values**"
      ]
    },
    {
      "cell_type": "markdown",
      "metadata": {
        "id": "5L9iEQH6jSeQ",
        "colab_type": "text"
      },
      "source": [
        "\"lead_time\", \"arrival_date_week_number\", \"arrival_date_day_of_month\", \"days_in_weekend_nights\", \"stays_in_week_nights\", \"adults\", \"children\", \"babies\", \"previous_cancellations\", \"previous_booking_not_canceled\", \"required_car_parking_spaces\", \"total_of_special_requests\", \"adr\""
      ]
    },
    {
      "cell_type": "markdown",
      "metadata": {
        "id": "dPy0y_ib_kmu",
        "colab_type": "text"
      },
      "source": [
        "As in further investigation, the dataset contains 121,045 missing values in total. The distribution of the missing values are as follow: \n",
        "488 missing values in country\n",
        "15825 missing values in agent and\n",
        "104,732 missing values in company\n"
      ]
    },
    {
      "cell_type": "markdown",
      "metadata": {
        "id": "-YcePlQWjWAj",
        "colab_type": "text"
      },
      "source": [
        "**X variable**"
      ]
    },
    {
      "cell_type": "markdown",
      "metadata": {
        "id": "q8VpCHKcjboA",
        "colab_type": "text"
      },
      "source": [
        "All columns are X except \"is_canceled\""
      ]
    },
    {
      "cell_type": "markdown",
      "metadata": {
        "id": "9NZMKHGkjeGP",
        "colab_type": "text"
      },
      "source": [
        "**Y variable**"
      ]
    },
    {
      "cell_type": "markdown",
      "metadata": {
        "id": "p0wKVWnujh67",
        "colab_type": "text"
      },
      "source": [
        "\"is_canceled\" implies the the booking is canceled or not."
      ]
    },
    {
      "cell_type": "markdown",
      "metadata": {
        "id": "lwnaQD-MhGSf",
        "colab_type": "text"
      },
      "source": [
        "### **Expolatory Data Analysis**"
      ]
    },
    {
      "cell_type": "markdown",
      "metadata": {
        "id": "-dzMW3jzKT2k",
        "colab_type": "text"
      },
      "source": [
        "**Hotel that has more cancelations**"
      ]
    },
    {
      "cell_type": "code",
      "metadata": {
        "id": "-ueW1wNhngNX",
        "colab_type": "code",
        "colab": {
          "base_uri": "https://localhost:8080/",
          "height": 52
        },
        "outputId": "c9c0055b-bc2c-467e-9cf1-193a421577d4"
      },
      "source": [
        "#code start here\n",
        "print('There are ' + str(len(df[(df['hotel']=='Resort Hotel') & (df['is_canceled']==1)])) + ' cancelations at Resort Hotel')\n",
        "print('There are ' + str(len(df[(df['hotel']=='City Hotel') & (df['is_canceled']==1)])) + ' cancelations at City Hotel')"
      ],
      "execution_count": null,
      "outputs": [
        {
          "output_type": "stream",
          "text": [
            "There are 11122 cancelations at Resort Hotel\n",
            "There are 33102 cancelations at City Hotel\n"
          ],
          "name": "stdout"
        }
      ]
    },
    {
      "cell_type": "code",
      "metadata": {
        "id": "XotRiEMVITDR",
        "colab_type": "code",
        "colab": {
          "base_uri": "https://localhost:8080/",
          "height": 410
        },
        "outputId": "7d550c9a-5266-45dc-9067-82ac961e5310"
      },
      "source": [
        "plt.figure(figsize=(6,6))\n",
        "plt.title(label='Cancellations by Hotel Types')\n",
        "sns.countplot(x='hotel',hue='is_canceled',data=df)\n",
        "plt.show()"
      ],
      "execution_count": null,
      "outputs": [
        {
          "output_type": "display_data",
          "data": {
            "image/png": "[encoded data removed]",
            "text/plain": [
              "<Figure size 432x432 with 1 Axes>"
            ]
          },
          "metadata": {
            "tags": [],
            "needs_background": "light"
          }
        }
      ]
    },
    {
      "cell_type": "code",
      "metadata": {
        "id": "kpipkM-6JVyX",
        "colab_type": "code",
        "colab": {
          "base_uri": "https://localhost:8080/",
          "height": 70
        },
        "outputId": "47de8612-cb26-4c54-8985-725404be57fa"
      },
      "source": [
        "# % of cancellations in Resort Hotel\n",
        "df[df['hotel']=='Resort Hotel']['is_canceled'].value_counts(normalize=True)"
      ],
      "execution_count": null,
      "outputs": [
        {
          "output_type": "execute_result",
          "data": {
            "text/plain": [
              "0    0.722366\n",
              "1    0.277634\n",
              "Name: is_canceled, dtype: float64"
            ]
          },
          "metadata": {
            "tags": []
          },
          "execution_count": 12
        }
      ]
    },
    {
      "cell_type": "code",
      "metadata": {
        "id": "nFMcGLyaJYpi",
        "colab_type": "code",
        "colab": {
          "base_uri": "https://localhost:8080/",
          "height": 70
        },
        "outputId": "bdf67809-28d8-4f2a-b54c-5a298cab4a58"
      },
      "source": [
        "# % of cancellations in City Hotel\n",
        "df[df['hotel']=='City Hotel']['is_canceled'].value_counts(normalize=True)"
      ],
      "execution_count": null,
      "outputs": [
        {
          "output_type": "execute_result",
          "data": {
            "text/plain": [
              "0    0.58273\n",
              "1    0.41727\n",
              "Name: is_canceled, dtype: float64"
            ]
          },
          "metadata": {
            "tags": []
          },
          "execution_count": 13
        }
      ]
    },
    {
      "cell_type": "markdown",
      "metadata": {
        "id": "gRUjBkD8JbFx",
        "colab_type": "text"
      },
      "source": [
        "City Hotel has a higher cancellations rate of 41.78% comparing to Resort Hotel’s 27.98% "
      ]
    },
    {
      "cell_type": "markdown",
      "metadata": {
        "id": "hemuzJIDNaoB",
        "colab_type": "text"
      },
      "source": [
        "**Is Lead Time affecting cancelation rate**"
      ]
    },
    {
      "cell_type": "code",
      "metadata": {
        "id": "m5w3RsUONnP2",
        "colab_type": "code",
        "colab": {
          "base_uri": "https://localhost:8080/",
          "height": 410
        },
        "outputId": "828de63d-def0-4bca-e06e-c45bc051e6cd"
      },
      "source": [
        "plt.figure(figsize=(12,6))\n",
        "plt.title(label='Cancellation by Lead Time')\n",
        "sns.barplot(x='hotel',y='lead_time',hue='is_canceled',data=df)\n",
        "plt.show()"
      ],
      "execution_count": null,
      "outputs": [
        {
          "output_type": "display_data",
          "data": {
            "image/png": "[encoded data removed]",
            "text/plain": [
              "<Figure size 864x432 with 1 Axes>"
            ]
          },
          "metadata": {
            "tags": [],
            "needs_background": "light"
          }
        }
      ]
    },
    {
      "cell_type": "markdown",
      "metadata": {
        "id": "CZjVA4HlNp5V",
        "colab_type": "text"
      },
      "source": [
        "The longer the lead time, the reservation more likely to be canceled. "
      ]
    },
    {
      "cell_type": "markdown",
      "metadata": {
        "id": "X8IiEtCnNhb8",
        "colab_type": "text"
      },
      "source": [
        "**Cancelation by Market Segments and ADR**"
      ]
    },
    {
      "cell_type": "code",
      "metadata": {
        "id": "JQyQ3nncQVoe",
        "colab_type": "code",
        "colab": {
          "base_uri": "https://localhost:8080/",
          "height": 470
        },
        "outputId": "800e069f-26ce-448c-c7cd-add220eb6ef2"
      },
      "source": [
        "plt.figure(figsize=(6,6))\n",
        "plt.title(label='Cancellation by Market Segments & ADR')\n",
        "plt.xticks(rotation=45) \n",
        "sns.barplot(x='market_segment',y='adr',hue='is_canceled',data=df)\n",
        "plt.show()"
      ],
      "execution_count": null,
      "outputs": [
        {
          "output_type": "display_data",
          "data": {
            "image/png": "[encoded data removed]",
            "text/plain": [
              "<Figure size 432x432 with 1 Axes>"
            ]
          },
          "metadata": {
            "tags": [],
            "needs_background": "light"
          }
        }
      ]
    },
    {
      "cell_type": "markdown",
      "metadata": {
        "id": "jcFAI8BrQYjE",
        "colab_type": "text"
      },
      "source": [
        "• The cancellation percentage of groups is higher than other segments\n",
        "\n",
        "• The cancellation number of Online TA is higher than other segments\n",
        "\n",
        "• Almost all canceled reservations have a higher ADR."
      ]
    },
    {
      "cell_type": "markdown",
      "metadata": {
        "id": "yBvgaspGQcCx",
        "colab_type": "text"
      },
      "source": [
        "**Distribution Channel**"
      ]
    },
    {
      "cell_type": "code",
      "metadata": {
        "id": "I2XcyIetTnh7",
        "colab_type": "code",
        "colab": {
          "base_uri": "https://localhost:8080/",
          "height": 446
        },
        "outputId": "7cf27014-78d0-4062-d155-3b90afaa3a3e"
      },
      "source": [
        "plt.figure(figsize=(6,6))\n",
        "plt.title(label='Cancellation by Distribution Channels')\n",
        "plt.xticks(rotation=45) \n",
        "sns.countplot(x='distribution_channel',hue='is_canceled',data=df)\n",
        "plt.show()"
      ],
      "execution_count": null,
      "outputs": [
        {
          "output_type": "display_data",
          "data": {
            "image/png": "[encoded data removed]",
            "text/plain": [
              "<Figure size 432x432 with 1 Axes>"
            ]
          },
          "metadata": {
            "tags": [],
            "needs_background": "light"
          }
        }
      ]
    },
    {
      "cell_type": "markdown",
      "metadata": {
        "id": "BvAXasU6TpUO",
        "colab_type": "text"
      },
      "source": [
        "Reservations from Travel Agents or Tour Operators are more likely to be canceled"
      ]
    },
    {
      "cell_type": "markdown",
      "metadata": {
        "id": "TM6ja1BcTrI4",
        "colab_type": "text"
      },
      "source": [
        "**Cancelation by deposit types**"
      ]
    },
    {
      "cell_type": "code",
      "metadata": {
        "id": "bMmj7PWZUQPW",
        "colab_type": "code",
        "colab": {
          "base_uri": "https://localhost:8080/",
          "height": 410
        },
        "outputId": "f8a05f93-c04b-40da-daee-e146918be236"
      },
      "source": [
        "plt.figure(figsize=(6,6))\n",
        "plt.title(label='Cancellation by Deposit Type')\n",
        "sns.countplot(x='deposit_type',hue='is_canceled',data=df)\n",
        "plt.show()"
      ],
      "execution_count": null,
      "outputs": [
        {
          "output_type": "display_data",
          "data": {
            "image/png": "[encoded data removed]",
            "text/plain": [
              "<Figure size 432x432 with 1 Axes>"
            ]
          },
          "metadata": {
            "tags": [],
            "needs_background": "light"
          }
        }
      ]
    },
    {
      "cell_type": "markdown",
      "metadata": {
        "id": "a6an2wreUSRA",
        "colab_type": "text"
      },
      "source": [
        "Reservations with No-deposit or Non-refund policy are more likely to be canceled"
      ]
    },
    {
      "cell_type": "markdown",
      "metadata": {
        "id": "V2KFjnQvVGv-",
        "colab_type": "text"
      },
      "source": [
        "**Monthly Cancellations and Customers by Hotel Types**"
      ]
    },
    {
      "cell_type": "code",
      "metadata": {
        "id": "w7txTX3GVjMh",
        "colab_type": "code",
        "colab": {
          "base_uri": "https://localhost:8080/",
          "height": 632
        },
        "outputId": "274f75f5-2702-4424-b052-f06e0c80a38d"
      },
      "source": [
        "plt.figure(figsize =(13,10))\n",
        "sns.set(style=\"darkgrid\")\n",
        "plt.title(\"Total Customers - Monthly \", fontdict={'fontsize': 20})\n",
        "ax = sns.countplot(x = \"arrival_date_month\", hue = 'hotel', data = df)"
      ],
      "execution_count": null,
      "outputs": [
        {
          "output_type": "display_data",
          "data": {
            "image/png": "[encoded data removed]",
            "text/plain": [
              "<Figure size 936x720 with 1 Axes>"
            ]
          },
          "metadata": {
            "tags": [],
            "needs_background": "light"
          }
        }
      ]
    },
    {
      "cell_type": "code",
      "metadata": {
        "id": "ZwtNwnNVYVmn",
        "colab_type": "code",
        "colab": {
          "base_uri": "https://localhost:8080/",
          "height": 611
        },
        "outputId": "61ef0260-361f-45fe-94b8-61850c2967e3"
      },
      "source": [
        "plt.figure(figsize = (13,10))\n",
        "sns.barplot(x = 'arrival_date_month', y = 'is_canceled', data = df);"
      ],
      "execution_count": null,
      "outputs": [
        {
          "output_type": "display_data",
          "data": {
            "image/png": "[encoded data removed]",
            "text/plain": [
              "<Figure size 936x720 with 1 Axes>"
            ]
          },
          "metadata": {
            "tags": []
          }
        }
      ]
    },
    {
      "cell_type": "code",
      "metadata": {
        "id": "Ng9irWPyYZwH",
        "colab_type": "code",
        "colab": {
          "base_uri": "https://localhost:8080/",
          "height": 611
        },
        "outputId": "b6c85084-0332-42ba-af55-5cabb0a40e00"
      },
      "source": [
        "plt.figure(figsize = (20,10))\n",
        "sns.barplot(x = 'arrival_date_month', y = 'is_canceled', hue = 'hotel', data = df);"
      ],
      "execution_count": null,
      "outputs": [
        {
          "output_type": "display_data",
          "data": {
            "image/png": "[encoded data removed]",
            "text/plain": [
              "<Figure size 1440x720 with 1 Axes>"
            ]
          },
          "metadata": {
            "tags": []
          }
        }
      ]
    },
    {
      "cell_type": "markdown",
      "metadata": {
        "id": "WSpwXgdgYfFx",
        "colab_type": "text"
      },
      "source": [
        "\n",
        "*   Fewer customer come in winter months (November, December, January, and February, March)\n",
        "*   The cancellation rates quite normal that it appear less in winter months\n",
        "*   The fact that total cancellation rates of winter months are low is that the booking rate of the resort hotels are low in these months. \n",
        "*   In short, the possibility of cancellation of resort hotels in winter is very low\n",
        "\n",
        "\n",
        "\n",
        "\n"
      ]
    },
    {
      "cell_type": "markdown",
      "metadata": {
        "id": "jLUq7w6xnyFf",
        "colab_type": "text"
      },
      "source": [
        "### **Data Quality**"
      ]
    },
    {
      "cell_type": "code",
      "metadata": {
        "id": "u_UOgRSNn3dL",
        "colab_type": "code",
        "colab": {
          "base_uri": "https://localhost:8080/",
          "height": 603
        },
        "outputId": "532d1edf-cf8f-4210-db4c-01f4ef5cb1fe"
      },
      "source": [
        "df.isnull().sum()"
      ],
      "execution_count": null,
      "outputs": [
        {
          "output_type": "execute_result",
          "data": {
            "text/plain": [
              "hotel                                  0\n",
              "is_canceled                            0\n",
              "lead_time                              0\n",
              "arrival_date_year                      0\n",
              "arrival_date_month                     0\n",
              "arrival_date_week_number               0\n",
              "arrival_date_day_of_month              0\n",
              "stays_in_weekend_nights                0\n",
              "stays_in_week_nights                   0\n",
              "adults                                 0\n",
              "children                               4\n",
              "babies                                 0\n",
              "meal                                   0\n",
              "country                              488\n",
              "market_segment                         0\n",
              "distribution_channel                   0\n",
              "is_repeated_guest                      0\n",
              "previous_cancellations                 0\n",
              "previous_bookings_not_canceled         0\n",
              "reserved_room_type                     0\n",
              "assigned_room_type                     0\n",
              "booking_changes                        0\n",
              "deposit_type                           0\n",
              "agent                              16340\n",
              "company                           112593\n",
              "days_in_waiting_list                   0\n",
              "customer_type                          0\n",
              "adr                                    0\n",
              "required_car_parking_spaces            0\n",
              "total_of_special_requests              0\n",
              "reservation_status                     0\n",
              "reservation_status_date                0\n",
              "dtype: int64"
            ]
          },
          "metadata": {
            "tags": []
          },
          "execution_count": 22
        }
      ]
    },
    {
      "cell_type": "markdown",
      "metadata": {
        "id": "S65n6zNEj9-T",
        "colab_type": "text"
      },
      "source": [
        "## **Data Preparation**"
      ]
    },
    {
      "cell_type": "markdown",
      "metadata": {
        "id": "Mdql63vuk-XT",
        "colab_type": "text"
      },
      "source": [
        "### **Select Data**"
      ]
    },
    {
      "cell_type": "markdown",
      "metadata": {
        "id": "0o9edgUvlJxB",
        "colab_type": "text"
      },
      "source": [
        "Not all data columns are selected in predicting the outcome of the booking cancelation prediction. \"reservation_status\", \"agent\", and \"company\" are removed from the data columns. Another reason for \"reservation_status\" to be removed because of it abuse the accuracy of all the model (100% accuracy) as it direct way to predict cancellations. Some of the missing value and confusing values that exist in the dataset are handle in a proper and formal way to maximize the accuracy, precision and recall of the results. "
      ]
    },
    {
      "cell_type": "markdown",
      "metadata": {
        "id": "6Q98qigIlOmt",
        "colab_type": "text"
      },
      "source": [
        "**Handling Missing value**"
      ]
    },
    {
      "cell_type": "markdown",
      "metadata": {
        "id": "27vqXOHaurRX",
        "colab_type": "text"
      },
      "source": [
        "**Numerical Data:** \"children\" has 4 missing values, we assumed the customer do not have children, replaced the missing values with '0'.\n",
        "**Categorical Data:** Originally the missing values should replace with the maximum occurance of data, but \"agent\" and \"company\" missing values hold the greater ratio between the filled values, as its hard to make decision which value are more suitable to fill the missing values, we decided to drop it."
      ]
    },
    {
      "cell_type": "code",
      "metadata": {
        "id": "W-SJ25q2cWFG",
        "colab_type": "code",
        "colab": {
          "base_uri": "https://localhost:8080/",
          "height": 34
        },
        "outputId": "8be88788-e948-4817-9227-d5f2fb3931ab"
      },
      "source": [
        "#we drop \"agent\" and \"company\" because there are too many missing values\n",
        "df.drop(columns=['agent', 'company'],inplace=True)\n",
        "df.dropna(axis=0,inplace=True)\n",
        "df.shape"
      ],
      "execution_count": null,
      "outputs": [
        {
          "output_type": "execute_result",
          "data": {
            "text/plain": [
              "(118898, 30)"
            ]
          },
          "metadata": {
            "tags": []
          },
          "execution_count": 23
        }
      ]
    },
    {
      "cell_type": "code",
      "metadata": {
        "id": "62qVxbQbmOaF",
        "colab_type": "code",
        "colab": {
          "base_uri": "https://localhost:8080/",
          "height": 70
        },
        "outputId": "87bf0d79-d33c-4400-8e17-fe33d601c819"
      },
      "source": [
        "df['is_canceled'].value_counts(normalize=True)"
      ],
      "execution_count": null,
      "outputs": [
        {
          "output_type": "execute_result",
          "data": {
            "text/plain": [
              "0    0.628648\n",
              "1    0.371352\n",
              "Name: is_canceled, dtype: float64"
            ]
          },
          "metadata": {
            "tags": []
          },
          "execution_count": 24
        }
      ]
    },
    {
      "cell_type": "code",
      "metadata": {
        "id": "WbvWr-loE4wa",
        "colab_type": "code",
        "colab": {
          "base_uri": "https://localhost:8080/",
          "height": 87
        },
        "outputId": "e5ea5232-8eae-4299-e75c-41dcf6b34e48"
      },
      "source": [
        "df['reservation_status'].value_counts(normalize=True)"
      ],
      "execution_count": null,
      "outputs": [
        {
          "output_type": "execute_result",
          "data": {
            "text/plain": [
              "Check-Out    0.628648\n",
              "Canceled     0.361234\n",
              "No-Show      0.010118\n",
              "Name: reservation_status, dtype: float64"
            ]
          },
          "metadata": {
            "tags": []
          },
          "execution_count": 25
        }
      ]
    },
    {
      "cell_type": "code",
      "metadata": {
        "id": "XQb6JQGvE92v",
        "colab_type": "code",
        "colab": {
          "base_uri": "https://localhost:8080/",
          "height": 34
        },
        "outputId": "6e47a2c7-6925-4800-cc8f-af15ae9eec1a"
      },
      "source": [
        "#is_canceled & reservation_status provide same information, we can drop reservation_status for model building purpose \n",
        "df.drop(columns=['reservation_status'],inplace=True)\n",
        "df.dropna(axis=0,inplace=True)\n",
        "df.shape"
      ],
      "execution_count": null,
      "outputs": [
        {
          "output_type": "execute_result",
          "data": {
            "text/plain": [
              "(118898, 29)"
            ]
          },
          "metadata": {
            "tags": []
          },
          "execution_count": 26
        }
      ]
    },
    {
      "cell_type": "code",
      "metadata": {
        "id": "PkhEc00eeR3A",
        "colab_type": "code",
        "colab": {
          "base_uri": "https://localhost:8080/",
          "height": 307
        },
        "outputId": "8066ad73-7876-4f27-daf4-dd9f28a6d63d"
      },
      "source": [
        "df.describe() #put here temporarily"
      ],
      "execution_count": null,
      "outputs": [
        {
          "output_type": "execute_result",
          "data": {
            "text/html": [
              "<div>\n",
              "<style scoped>\n",
              "    .dataframe tbody tr th:only-of-type {\n",
              "        vertical-align: middle;\n",
              "    }\n",
              "\n",
              "    .dataframe tbody tr th {\n",
              "        vertical-align: top;\n",
              "    }\n",
              "\n",
              "    .dataframe thead th {\n",
              "        text-align: right;\n",
              "    }\n",
              "</style>\n",
              "<table border=\"1\" class=\"dataframe\">\n",
              "  <thead>\n",
              "    <tr style=\"text-align: right;\">\n",
              "      <th></th>\n",
              "      <th>is_canceled</th>\n",
              "      <th>lead_time</th>\n",
              "      <th>arrival_date_year</th>\n",
              "      <th>arrival_date_week_number</th>\n",
              "      <th>arrival_date_day_of_month</th>\n",
              "      <th>stays_in_weekend_nights</th>\n",
              "      <th>stays_in_week_nights</th>\n",
              "      <th>adults</th>\n",
              "      <th>children</th>\n",
              "      <th>babies</th>\n",
              "      <th>is_repeated_guest</th>\n",
              "      <th>previous_cancellations</th>\n",
              "      <th>previous_bookings_not_canceled</th>\n",
              "      <th>booking_changes</th>\n",
              "      <th>days_in_waiting_list</th>\n",
              "      <th>adr</th>\n",
              "      <th>required_car_parking_spaces</th>\n",
              "      <th>total_of_special_requests</th>\n",
              "    </tr>\n",
              "  </thead>\n",
              "  <tbody>\n",
              "    <tr>\n",
              "      <th>count</th>\n",
              "      <td>118898.000000</td>\n",
              "      <td>118898.000000</td>\n",
              "      <td>118898.000000</td>\n",
              "      <td>118898.000000</td>\n",
              "      <td>118898.000000</td>\n",
              "      <td>118898.000000</td>\n",
              "      <td>118898.000000</td>\n",
              "      <td>118898.000000</td>\n",
              "      <td>118898.000000</td>\n",
              "      <td>118898.000000</td>\n",
              "      <td>118898.000000</td>\n",
              "      <td>118898.000000</td>\n",
              "      <td>118898.000000</td>\n",
              "      <td>118898.000000</td>\n",
              "      <td>118898.000000</td>\n",
              "      <td>118898.000000</td>\n",
              "      <td>118898.000000</td>\n",
              "      <td>118898.000000</td>\n",
              "    </tr>\n",
              "    <tr>\n",
              "      <th>mean</th>\n",
              "      <td>0.371352</td>\n",
              "      <td>104.311435</td>\n",
              "      <td>2016.157656</td>\n",
              "      <td>27.166555</td>\n",
              "      <td>15.800880</td>\n",
              "      <td>0.928897</td>\n",
              "      <td>2.502145</td>\n",
              "      <td>1.858391</td>\n",
              "      <td>0.104207</td>\n",
              "      <td>0.007948</td>\n",
              "      <td>0.032011</td>\n",
              "      <td>0.087142</td>\n",
              "      <td>0.131634</td>\n",
              "      <td>0.221181</td>\n",
              "      <td>2.330754</td>\n",
              "      <td>102.003243</td>\n",
              "      <td>0.061885</td>\n",
              "      <td>0.571683</td>\n",
              "    </tr>\n",
              "    <tr>\n",
              "      <th>std</th>\n",
              "      <td>0.483168</td>\n",
              "      <td>106.903309</td>\n",
              "      <td>0.707459</td>\n",
              "      <td>13.589971</td>\n",
              "      <td>8.780324</td>\n",
              "      <td>0.996216</td>\n",
              "      <td>1.900168</td>\n",
              "      <td>0.578576</td>\n",
              "      <td>0.399172</td>\n",
              "      <td>0.097380</td>\n",
              "      <td>0.176029</td>\n",
              "      <td>0.845869</td>\n",
              "      <td>1.484672</td>\n",
              "      <td>0.652785</td>\n",
              "      <td>17.630452</td>\n",
              "      <td>50.485862</td>\n",
              "      <td>0.244172</td>\n",
              "      <td>0.792678</td>\n",
              "    </tr>\n",
              "    <tr>\n",
              "      <th>min</th>\n",
              "      <td>0.000000</td>\n",
              "      <td>0.000000</td>\n",
              "      <td>2015.000000</td>\n",
              "      <td>1.000000</td>\n",
              "      <td>1.000000</td>\n",
              "      <td>0.000000</td>\n",
              "      <td>0.000000</td>\n",
              "      <td>0.000000</td>\n",
              "      <td>0.000000</td>\n",
              "      <td>0.000000</td>\n",
              "      <td>0.000000</td>\n",
              "      <td>0.000000</td>\n",
              "      <td>0.000000</td>\n",
              "      <td>0.000000</td>\n",
              "      <td>0.000000</td>\n",
              "      <td>-6.380000</td>\n",
              "      <td>0.000000</td>\n",
              "      <td>0.000000</td>\n",
              "    </tr>\n",
              "    <tr>\n",
              "      <th>25%</th>\n",
              "      <td>0.000000</td>\n",
              "      <td>18.000000</td>\n",
              "      <td>2016.000000</td>\n",
              "      <td>16.000000</td>\n",
              "      <td>8.000000</td>\n",
              "      <td>0.000000</td>\n",
              "      <td>1.000000</td>\n",
              "      <td>2.000000</td>\n",
              "      <td>0.000000</td>\n",
              "      <td>0.000000</td>\n",
              "      <td>0.000000</td>\n",
              "      <td>0.000000</td>\n",
              "      <td>0.000000</td>\n",
              "      <td>0.000000</td>\n",
              "      <td>0.000000</td>\n",
              "      <td>70.000000</td>\n",
              "      <td>0.000000</td>\n",
              "      <td>0.000000</td>\n",
              "    </tr>\n",
              "    <tr>\n",
              "      <th>50%</th>\n",
              "      <td>0.000000</td>\n",
              "      <td>69.000000</td>\n",
              "      <td>2016.000000</td>\n",
              "      <td>28.000000</td>\n",
              "      <td>16.000000</td>\n",
              "      <td>1.000000</td>\n",
              "      <td>2.000000</td>\n",
              "      <td>2.000000</td>\n",
              "      <td>0.000000</td>\n",
              "      <td>0.000000</td>\n",
              "      <td>0.000000</td>\n",
              "      <td>0.000000</td>\n",
              "      <td>0.000000</td>\n",
              "      <td>0.000000</td>\n",
              "      <td>0.000000</td>\n",
              "      <td>95.000000</td>\n",
              "      <td>0.000000</td>\n",
              "      <td>0.000000</td>\n",
              "    </tr>\n",
              "    <tr>\n",
              "      <th>75%</th>\n",
              "      <td>1.000000</td>\n",
              "      <td>161.000000</td>\n",
              "      <td>2017.000000</td>\n",
              "      <td>38.000000</td>\n",
              "      <td>23.000000</td>\n",
              "      <td>2.000000</td>\n",
              "      <td>3.000000</td>\n",
              "      <td>2.000000</td>\n",
              "      <td>0.000000</td>\n",
              "      <td>0.000000</td>\n",
              "      <td>0.000000</td>\n",
              "      <td>0.000000</td>\n",
              "      <td>0.000000</td>\n",
              "      <td>0.000000</td>\n",
              "      <td>0.000000</td>\n",
              "      <td>126.000000</td>\n",
              "      <td>0.000000</td>\n",
              "      <td>1.000000</td>\n",
              "    </tr>\n",
              "    <tr>\n",
              "      <th>max</th>\n",
              "      <td>1.000000</td>\n",
              "      <td>737.000000</td>\n",
              "      <td>2017.000000</td>\n",
              "      <td>53.000000</td>\n",
              "      <td>31.000000</td>\n",
              "      <td>16.000000</td>\n",
              "      <td>41.000000</td>\n",
              "      <td>55.000000</td>\n",
              "      <td>10.000000</td>\n",
              "      <td>10.000000</td>\n",
              "      <td>1.000000</td>\n",
              "      <td>26.000000</td>\n",
              "      <td>72.000000</td>\n",
              "      <td>21.000000</td>\n",
              "      <td>391.000000</td>\n",
              "      <td>5400.000000</td>\n",
              "      <td>8.000000</td>\n",
              "      <td>5.000000</td>\n",
              "    </tr>\n",
              "  </tbody>\n",
              "</table>\n",
              "</div>"
            ],
            "text/plain": [
              "         is_canceled  ...  total_of_special_requests\n",
              "count  118898.000000  ...              118898.000000\n",
              "mean        0.371352  ...                   0.571683\n",
              "std         0.483168  ...                   0.792678\n",
              "min         0.000000  ...                   0.000000\n",
              "25%         0.000000  ...                   0.000000\n",
              "50%         0.000000  ...                   0.000000\n",
              "75%         1.000000  ...                   1.000000\n",
              "max         1.000000  ...                   5.000000\n",
              "\n",
              "[8 rows x 18 columns]"
            ]
          },
          "metadata": {
            "tags": []
          },
          "execution_count": 27
        }
      ]
    },
    {
      "cell_type": "code",
      "metadata": {
        "id": "5ZXVzgnmeli6",
        "colab_type": "code",
        "colab": {}
      },
      "source": [
        "#\"children\" have 4 missing value, we assumed the customer do not have any children.\n",
        "df['children'] = df['children'].fillna(0)"
      ],
      "execution_count": null,
      "outputs": []
    },
    {
      "cell_type": "code",
      "metadata": {
        "id": "5BEOaOcae-r-",
        "colab_type": "code",
        "colab": {
          "base_uri": "https://localhost:8080/",
          "height": 550
        },
        "outputId": "a08681d7-3258-42ca-ec10-4fab6432f2c8"
      },
      "source": [
        "#remove later, check null value\n",
        "df.isnull().sum()"
      ],
      "execution_count": null,
      "outputs": [
        {
          "output_type": "execute_result",
          "data": {
            "text/plain": [
              "hotel                             0\n",
              "is_canceled                       0\n",
              "lead_time                         0\n",
              "arrival_date_year                 0\n",
              "arrival_date_month                0\n",
              "arrival_date_week_number          0\n",
              "arrival_date_day_of_month         0\n",
              "stays_in_weekend_nights           0\n",
              "stays_in_week_nights              0\n",
              "adults                            0\n",
              "children                          0\n",
              "babies                            0\n",
              "meal                              0\n",
              "country                           0\n",
              "market_segment                    0\n",
              "distribution_channel              0\n",
              "is_repeated_guest                 0\n",
              "previous_cancellations            0\n",
              "previous_bookings_not_canceled    0\n",
              "reserved_room_type                0\n",
              "assigned_room_type                0\n",
              "booking_changes                   0\n",
              "deposit_type                      0\n",
              "days_in_waiting_list              0\n",
              "customer_type                     0\n",
              "adr                               0\n",
              "required_car_parking_spaces       0\n",
              "total_of_special_requests         0\n",
              "reservation_status_date           0\n",
              "dtype: int64"
            ]
          },
          "metadata": {
            "tags": []
          },
          "execution_count": 29
        }
      ]
    },
    {
      "cell_type": "code",
      "metadata": {
        "id": "KedHGgwXfGd1",
        "colab_type": "code",
        "colab": {
          "base_uri": "https://localhost:8080/",
          "height": 307
        },
        "outputId": "b8b71acc-3b42-4fee-be47-5ab5ec29a728"
      },
      "source": [
        "#remove later, check again the entries\n",
        "df.describe()"
      ],
      "execution_count": null,
      "outputs": [
        {
          "output_type": "execute_result",
          "data": {
            "text/html": [
              "<div>\n",
              "<style scoped>\n",
              "    .dataframe tbody tr th:only-of-type {\n",
              "        vertical-align: middle;\n",
              "    }\n",
              "\n",
              "    .dataframe tbody tr th {\n",
              "        vertical-align: top;\n",
              "    }\n",
              "\n",
              "    .dataframe thead th {\n",
              "        text-align: right;\n",
              "    }\n",
              "</style>\n",
              "<table border=\"1\" class=\"dataframe\">\n",
              "  <thead>\n",
              "    <tr style=\"text-align: right;\">\n",
              "      <th></th>\n",
              "      <th>is_canceled</th>\n",
              "      <th>lead_time</th>\n",
              "      <th>arrival_date_year</th>\n",
              "      <th>arrival_date_week_number</th>\n",
              "      <th>arrival_date_day_of_month</th>\n",
              "      <th>stays_in_weekend_nights</th>\n",
              "      <th>stays_in_week_nights</th>\n",
              "      <th>adults</th>\n",
              "      <th>children</th>\n",
              "      <th>babies</th>\n",
              "      <th>is_repeated_guest</th>\n",
              "      <th>previous_cancellations</th>\n",
              "      <th>previous_bookings_not_canceled</th>\n",
              "      <th>booking_changes</th>\n",
              "      <th>days_in_waiting_list</th>\n",
              "      <th>adr</th>\n",
              "      <th>required_car_parking_spaces</th>\n",
              "      <th>total_of_special_requests</th>\n",
              "    </tr>\n",
              "  </thead>\n",
              "  <tbody>\n",
              "    <tr>\n",
              "      <th>count</th>\n",
              "      <td>118898.000000</td>\n",
              "      <td>118898.000000</td>\n",
              "      <td>118898.000000</td>\n",
              "      <td>118898.000000</td>\n",
              "      <td>118898.000000</td>\n",
              "      <td>118898.000000</td>\n",
              "      <td>118898.000000</td>\n",
              "      <td>118898.000000</td>\n",
              "      <td>118898.000000</td>\n",
              "      <td>118898.000000</td>\n",
              "      <td>118898.000000</td>\n",
              "      <td>118898.000000</td>\n",
              "      <td>118898.000000</td>\n",
              "      <td>118898.000000</td>\n",
              "      <td>118898.000000</td>\n",
              "      <td>118898.000000</td>\n",
              "      <td>118898.000000</td>\n",
              "      <td>118898.000000</td>\n",
              "    </tr>\n",
              "    <tr>\n",
              "      <th>mean</th>\n",
              "      <td>0.371352</td>\n",
              "      <td>104.311435</td>\n",
              "      <td>2016.157656</td>\n",
              "      <td>27.166555</td>\n",
              "      <td>15.800880</td>\n",
              "      <td>0.928897</td>\n",
              "      <td>2.502145</td>\n",
              "      <td>1.858391</td>\n",
              "      <td>0.104207</td>\n",
              "      <td>0.007948</td>\n",
              "      <td>0.032011</td>\n",
              "      <td>0.087142</td>\n",
              "      <td>0.131634</td>\n",
              "      <td>0.221181</td>\n",
              "      <td>2.330754</td>\n",
              "      <td>102.003243</td>\n",
              "      <td>0.061885</td>\n",
              "      <td>0.571683</td>\n",
              "    </tr>\n",
              "    <tr>\n",
              "      <th>std</th>\n",
              "      <td>0.483168</td>\n",
              "      <td>106.903309</td>\n",
              "      <td>0.707459</td>\n",
              "      <td>13.589971</td>\n",
              "      <td>8.780324</td>\n",
              "      <td>0.996216</td>\n",
              "      <td>1.900168</td>\n",
              "      <td>0.578576</td>\n",
              "      <td>0.399172</td>\n",
              "      <td>0.097380</td>\n",
              "      <td>0.176029</td>\n",
              "      <td>0.845869</td>\n",
              "      <td>1.484672</td>\n",
              "      <td>0.652785</td>\n",
              "      <td>17.630452</td>\n",
              "      <td>50.485862</td>\n",
              "      <td>0.244172</td>\n",
              "      <td>0.792678</td>\n",
              "    </tr>\n",
              "    <tr>\n",
              "      <th>min</th>\n",
              "      <td>0.000000</td>\n",
              "      <td>0.000000</td>\n",
              "      <td>2015.000000</td>\n",
              "      <td>1.000000</td>\n",
              "      <td>1.000000</td>\n",
              "      <td>0.000000</td>\n",
              "      <td>0.000000</td>\n",
              "      <td>0.000000</td>\n",
              "      <td>0.000000</td>\n",
              "      <td>0.000000</td>\n",
              "      <td>0.000000</td>\n",
              "      <td>0.000000</td>\n",
              "      <td>0.000000</td>\n",
              "      <td>0.000000</td>\n",
              "      <td>0.000000</td>\n",
              "      <td>-6.380000</td>\n",
              "      <td>0.000000</td>\n",
              "      <td>0.000000</td>\n",
              "    </tr>\n",
              "    <tr>\n",
              "      <th>25%</th>\n",
              "      <td>0.000000</td>\n",
              "      <td>18.000000</td>\n",
              "      <td>2016.000000</td>\n",
              "      <td>16.000000</td>\n",
              "      <td>8.000000</td>\n",
              "      <td>0.000000</td>\n",
              "      <td>1.000000</td>\n",
              "      <td>2.000000</td>\n",
              "      <td>0.000000</td>\n",
              "      <td>0.000000</td>\n",
              "      <td>0.000000</td>\n",
              "      <td>0.000000</td>\n",
              "      <td>0.000000</td>\n",
              "      <td>0.000000</td>\n",
              "      <td>0.000000</td>\n",
              "      <td>70.000000</td>\n",
              "      <td>0.000000</td>\n",
              "      <td>0.000000</td>\n",
              "    </tr>\n",
              "    <tr>\n",
              "      <th>50%</th>\n",
              "      <td>0.000000</td>\n",
              "      <td>69.000000</td>\n",
              "      <td>2016.000000</td>\n",
              "      <td>28.000000</td>\n",
              "      <td>16.000000</td>\n",
              "      <td>1.000000</td>\n",
              "      <td>2.000000</td>\n",
              "      <td>2.000000</td>\n",
              "      <td>0.000000</td>\n",
              "      <td>0.000000</td>\n",
              "      <td>0.000000</td>\n",
              "      <td>0.000000</td>\n",
              "      <td>0.000000</td>\n",
              "      <td>0.000000</td>\n",
              "      <td>0.000000</td>\n",
              "      <td>95.000000</td>\n",
              "      <td>0.000000</td>\n",
              "      <td>0.000000</td>\n",
              "    </tr>\n",
              "    <tr>\n",
              "      <th>75%</th>\n",
              "      <td>1.000000</td>\n",
              "      <td>161.000000</td>\n",
              "      <td>2017.000000</td>\n",
              "      <td>38.000000</td>\n",
              "      <td>23.000000</td>\n",
              "      <td>2.000000</td>\n",
              "      <td>3.000000</td>\n",
              "      <td>2.000000</td>\n",
              "      <td>0.000000</td>\n",
              "      <td>0.000000</td>\n",
              "      <td>0.000000</td>\n",
              "      <td>0.000000</td>\n",
              "      <td>0.000000</td>\n",
              "      <td>0.000000</td>\n",
              "      <td>0.000000</td>\n",
              "      <td>126.000000</td>\n",
              "      <td>0.000000</td>\n",
              "      <td>1.000000</td>\n",
              "    </tr>\n",
              "    <tr>\n",
              "      <th>max</th>\n",
              "      <td>1.000000</td>\n",
              "      <td>737.000000</td>\n",
              "      <td>2017.000000</td>\n",
              "      <td>53.000000</td>\n",
              "      <td>31.000000</td>\n",
              "      <td>16.000000</td>\n",
              "      <td>41.000000</td>\n",
              "      <td>55.000000</td>\n",
              "      <td>10.000000</td>\n",
              "      <td>10.000000</td>\n",
              "      <td>1.000000</td>\n",
              "      <td>26.000000</td>\n",
              "      <td>72.000000</td>\n",
              "      <td>21.000000</td>\n",
              "      <td>391.000000</td>\n",
              "      <td>5400.000000</td>\n",
              "      <td>8.000000</td>\n",
              "      <td>5.000000</td>\n",
              "    </tr>\n",
              "  </tbody>\n",
              "</table>\n",
              "</div>"
            ],
            "text/plain": [
              "         is_canceled  ...  total_of_special_requests\n",
              "count  118898.000000  ...              118898.000000\n",
              "mean        0.371352  ...                   0.571683\n",
              "std         0.483168  ...                   0.792678\n",
              "min         0.000000  ...                   0.000000\n",
              "25%         0.000000  ...                   0.000000\n",
              "50%         0.000000  ...                   0.000000\n",
              "75%         1.000000  ...                   1.000000\n",
              "max         1.000000  ...                   5.000000\n",
              "\n",
              "[8 rows x 18 columns]"
            ]
          },
          "metadata": {
            "tags": []
          },
          "execution_count": 30
        }
      ]
    },
    {
      "cell_type": "markdown",
      "metadata": {
        "id": "uIPN1H_Bw8rO",
        "colab_type": "text"
      },
      "source": [
        "**Handling Confusing Value**"
      ]
    },
    {
      "cell_type": "markdown",
      "metadata": {
        "id": "Udh5jUetx2pB",
        "colab_type": "text"
      },
      "source": [
        "In \"meal\", \"SC\" and \"Undefined\" stand for no meal, hence we decided to replace \"Undefined\" with \"SC\" to demolish confusion. "
      ]
    },
    {
      "cell_type": "code",
      "metadata": {
        "id": "OPo3oWJ9oLgv",
        "colab_type": "code",
        "colab": {
          "base_uri": "https://localhost:8080/",
          "height": 123
        },
        "outputId": "dbe115b8-4841-40cb-b9b1-c9ac661f72bd"
      },
      "source": [
        "df['meal'].value_counts()"
      ],
      "execution_count": null,
      "outputs": [
        {
          "output_type": "execute_result",
          "data": {
            "text/plain": [
              "BB           91863\n",
              "HB           14434\n",
              "SC           10638\n",
              "Undefined     1165\n",
              "FB             798\n",
              "Name: meal, dtype: int64"
            ]
          },
          "metadata": {
            "tags": []
          },
          "execution_count": 31
        }
      ]
    },
    {
      "cell_type": "code",
      "metadata": {
        "id": "3jk-hAwToNt6",
        "colab_type": "code",
        "colab": {}
      },
      "source": [
        "# \"meal\" contains values \"Undefined\", which is equal to SC\n",
        "df['meal'].replace('Undefined','SC',inplace=True)"
      ],
      "execution_count": null,
      "outputs": []
    },
    {
      "cell_type": "code",
      "metadata": {
        "id": "UO8kJ6jMoPF5",
        "colab_type": "code",
        "colab": {
          "base_uri": "https://localhost:8080/",
          "height": 1000
        },
        "outputId": "511bf01b-e66b-4d22-f06e-3896c134bad7"
      },
      "source": [
        "df.hist(figsize=(20,20))\n",
        "plt.show()"
      ],
      "execution_count": null,
      "outputs": [
        {
          "output_type": "display_data",
          "data": {
            "image/png": "[encoded data removed]",
            "text/plain": [
              "<Figure size 1440x1440 with 20 Axes>"
            ]
          },
          "metadata": {
            "tags": []
          }
        }
      ]
    },
    {
      "cell_type": "markdown",
      "metadata": {
        "id": "bJhT9POGyAfq",
        "colab_type": "text"
      },
      "source": [
        "**Data Cleaning**"
      ]
    },
    {
      "cell_type": "markdown",
      "metadata": {
        "id": "zKw_4vIpyC4b",
        "colab_type": "text"
      },
      "source": [
        "There is impossible 0 number of guest in the booking, logically it should some entries error, we remove all the values with 0 number of guest."
      ]
    },
    {
      "cell_type": "code",
      "metadata": {
        "id": "RadSbxQmoxJL",
        "colab_type": "code",
        "colab": {
          "base_uri": "https://localhost:8080/",
          "height": 34
        },
        "outputId": "a97a5a45-ee06-4d75-823d-f96d24225a41"
      },
      "source": [
        "#derived attributes\n",
        "len(df[(df['adults']==0) & (df['children']==0) & (df['babies']==0)])"
      ],
      "execution_count": null,
      "outputs": [
        {
          "output_type": "execute_result",
          "data": {
            "text/plain": [
              "170"
            ]
          },
          "metadata": {
            "tags": []
          },
          "execution_count": 34
        }
      ]
    },
    {
      "cell_type": "code",
      "metadata": {
        "id": "79iVkhGmo3MY",
        "colab_type": "code",
        "colab": {
          "base_uri": "https://localhost:8080/",
          "height": 34
        },
        "outputId": "3890d8f7-a080-4591-bcf9-dc5163164415"
      },
      "source": [
        "#genereated record\n",
        "zero_guests = df[(df['adults']==0) & (df['children']==0) & (df['babies']==0)].index\n",
        "df.drop(zero_guests, inplace=True)\n",
        "df.shape"
      ],
      "execution_count": null,
      "outputs": [
        {
          "output_type": "execute_result",
          "data": {
            "text/plain": [
              "(118728, 29)"
            ]
          },
          "metadata": {
            "tags": []
          },
          "execution_count": 35
        }
      ]
    },
    {
      "cell_type": "code",
      "metadata": {
        "id": "HNsSKLDzvvz6",
        "colab_type": "code",
        "colab": {}
      },
      "source": [
        "cat_cols=['is_canceled','arrival_date_month','meal','market_segment','distribution_channel','reserved_room_type',\n",
        "      'is_repeated_guest','deposit_type','customer_type']\n",
        "df[cat_cols] = df[cat_cols].astype('category')\n",
        "num_cols = ['lead_time','arrival_date_week_number','arrival_date_day_of_month','stays_in_weekend_nights','stays_in_week_nights',\n",
        "        'adults','children','babies','previous_cancellations','previous_bookings_not_canceled','required_car_parking_spaces',\n",
        "        'total_of_special_requests','adr']"
      ],
      "execution_count": null,
      "outputs": []
    },
    {
      "cell_type": "markdown",
      "metadata": {
        "id": "CwjMHob8l8v3",
        "colab_type": "text"
      },
      "source": [
        "**Merge Categorical Data and Numerical Data**"
      ]
    },
    {
      "cell_type": "markdown",
      "metadata": {
        "id": "l6Iq5yjmmAZg",
        "colab_type": "text"
      },
      "source": [
        "After the data preprocessing have been done, the processed and cleaned data are merge by using the Data Frame function in tabular fashion rows and columns."
      ]
    },
    {
      "cell_type": "code",
      "metadata": {
        "id": "_IzWcB7zwEi8",
        "colab_type": "code",
        "colab": {
          "base_uri": "https://localhost:8080/",
          "height": 34
        },
        "outputId": "17325711-1d93-453d-ad96-79d3efacd102"
      },
      "source": [
        "model_df = df[cat_cols+num_cols]\n",
        "model_df.shape"
      ],
      "execution_count": null,
      "outputs": [
        {
          "output_type": "execute_result",
          "data": {
            "text/plain": [
              "(118728, 22)"
            ]
          },
          "metadata": {
            "tags": []
          },
          "execution_count": 37
        }
      ]
    },
    {
      "cell_type": "markdown",
      "metadata": {
        "id": "Gb2vvBdvwGVz",
        "colab_type": "text"
      },
      "source": [
        "**Correlation**"
      ]
    },
    {
      "cell_type": "markdown",
      "metadata": {
        "id": "hi5aY8MZwH_H",
        "colab_type": "text"
      },
      "source": [
        "Correlation test is done to prevent there is any there is no metric that able to heavily impact or dominates other feature total."
      ]
    },
    {
      "cell_type": "code",
      "metadata": {
        "id": "uOMEYhvfwLEv",
        "colab_type": "code",
        "colab": {
          "base_uri": "https://localhost:8080/",
          "height": 457
        },
        "outputId": "a7ba916d-ad8d-421c-ab5c-384ca34b5019"
      },
      "source": [
        "model_df.corr()\n",
        "#if can list the ranking"
      ],
      "execution_count": null,
      "outputs": [
        {
          "output_type": "execute_result",
          "data": {
            "text/html": [
              "<div>\n",
              "<style scoped>\n",
              "    .dataframe tbody tr th:only-of-type {\n",
              "        vertical-align: middle;\n",
              "    }\n",
              "\n",
              "    .dataframe tbody tr th {\n",
              "        vertical-align: top;\n",
              "    }\n",
              "\n",
              "    .dataframe thead th {\n",
              "        text-align: right;\n",
              "    }\n",
              "</style>\n",
              "<table border=\"1\" class=\"dataframe\">\n",
              "  <thead>\n",
              "    <tr style=\"text-align: right;\">\n",
              "      <th></th>\n",
              "      <th>lead_time</th>\n",
              "      <th>arrival_date_week_number</th>\n",
              "      <th>arrival_date_day_of_month</th>\n",
              "      <th>stays_in_weekend_nights</th>\n",
              "      <th>stays_in_week_nights</th>\n",
              "      <th>adults</th>\n",
              "      <th>children</th>\n",
              "      <th>babies</th>\n",
              "      <th>previous_cancellations</th>\n",
              "      <th>previous_bookings_not_canceled</th>\n",
              "      <th>required_car_parking_spaces</th>\n",
              "      <th>total_of_special_requests</th>\n",
              "      <th>adr</th>\n",
              "    </tr>\n",
              "  </thead>\n",
              "  <tbody>\n",
              "    <tr>\n",
              "      <th>lead_time</th>\n",
              "      <td>1.000000</td>\n",
              "      <td>0.126875</td>\n",
              "      <td>0.002402</td>\n",
              "      <td>0.084327</td>\n",
              "      <td>0.165913</td>\n",
              "      <td>0.115020</td>\n",
              "      <td>-0.038580</td>\n",
              "      <td>-0.021231</td>\n",
              "      <td>0.085949</td>\n",
              "      <td>-0.071164</td>\n",
              "      <td>-0.115707</td>\n",
              "      <td>-0.096710</td>\n",
              "      <td>-0.068174</td>\n",
              "    </tr>\n",
              "    <tr>\n",
              "      <th>arrival_date_week_number</th>\n",
              "      <td>0.126875</td>\n",
              "      <td>1.000000</td>\n",
              "      <td>0.066577</td>\n",
              "      <td>0.018086</td>\n",
              "      <td>0.015531</td>\n",
              "      <td>0.025956</td>\n",
              "      <td>0.005527</td>\n",
              "      <td>0.010058</td>\n",
              "      <td>0.035354</td>\n",
              "      <td>-0.020876</td>\n",
              "      <td>0.001770</td>\n",
              "      <td>0.025810</td>\n",
              "      <td>0.075699</td>\n",
              "    </tr>\n",
              "    <tr>\n",
              "      <th>arrival_date_day_of_month</th>\n",
              "      <td>0.002402</td>\n",
              "      <td>0.066577</td>\n",
              "      <td>1.000000</td>\n",
              "      <td>-0.015739</td>\n",
              "      <td>-0.027723</td>\n",
              "      <td>-0.001884</td>\n",
              "      <td>0.014570</td>\n",
              "      <td>-0.000541</td>\n",
              "      <td>-0.027024</td>\n",
              "      <td>0.000116</td>\n",
              "      <td>0.008158</td>\n",
              "      <td>0.003078</td>\n",
              "      <td>0.030053</td>\n",
              "    </tr>\n",
              "    <tr>\n",
              "      <th>stays_in_weekend_nights</th>\n",
              "      <td>0.084327</td>\n",
              "      <td>0.018086</td>\n",
              "      <td>-0.015739</td>\n",
              "      <td>1.000000</td>\n",
              "      <td>0.490100</td>\n",
              "      <td>0.093397</td>\n",
              "      <td>0.045780</td>\n",
              "      <td>0.018523</td>\n",
              "      <td>-0.012998</td>\n",
              "      <td>-0.040727</td>\n",
              "      <td>-0.018099</td>\n",
              "      <td>0.072146</td>\n",
              "      <td>0.048701</td>\n",
              "    </tr>\n",
              "    <tr>\n",
              "      <th>stays_in_week_nights</th>\n",
              "      <td>0.165913</td>\n",
              "      <td>0.015531</td>\n",
              "      <td>-0.027723</td>\n",
              "      <td>0.490100</td>\n",
              "      <td>1.000000</td>\n",
              "      <td>0.095399</td>\n",
              "      <td>0.044723</td>\n",
              "      <td>0.020343</td>\n",
              "      <td>-0.014252</td>\n",
              "      <td>-0.047478</td>\n",
              "      <td>-0.024431</td>\n",
              "      <td>0.067360</td>\n",
              "      <td>0.065344</td>\n",
              "    </tr>\n",
              "    <tr>\n",
              "      <th>adults</th>\n",
              "      <td>0.115020</td>\n",
              "      <td>0.025956</td>\n",
              "      <td>-0.001884</td>\n",
              "      <td>0.093397</td>\n",
              "      <td>0.095399</td>\n",
              "      <td>1.000000</td>\n",
              "      <td>0.028603</td>\n",
              "      <td>0.017642</td>\n",
              "      <td>-0.007278</td>\n",
              "      <td>-0.105795</td>\n",
              "      <td>0.016107</td>\n",
              "      <td>0.122418</td>\n",
              "      <td>0.221413</td>\n",
              "    </tr>\n",
              "    <tr>\n",
              "      <th>children</th>\n",
              "      <td>-0.038580</td>\n",
              "      <td>0.005527</td>\n",
              "      <td>0.014570</td>\n",
              "      <td>0.045780</td>\n",
              "      <td>0.044723</td>\n",
              "      <td>0.028603</td>\n",
              "      <td>1.000000</td>\n",
              "      <td>0.024101</td>\n",
              "      <td>-0.024775</td>\n",
              "      <td>-0.020368</td>\n",
              "      <td>0.057059</td>\n",
              "      <td>0.081811</td>\n",
              "      <td>0.325228</td>\n",
              "    </tr>\n",
              "    <tr>\n",
              "      <th>babies</th>\n",
              "      <td>-0.021231</td>\n",
              "      <td>0.010058</td>\n",
              "      <td>-0.000541</td>\n",
              "      <td>0.018523</td>\n",
              "      <td>0.020343</td>\n",
              "      <td>0.017642</td>\n",
              "      <td>0.024101</td>\n",
              "      <td>1.000000</td>\n",
              "      <td>-0.007496</td>\n",
              "      <td>-0.006306</td>\n",
              "      <td>0.036979</td>\n",
              "      <td>0.097654</td>\n",
              "      <td>0.028455</td>\n",
              "    </tr>\n",
              "    <tr>\n",
              "      <th>previous_cancellations</th>\n",
              "      <td>0.085949</td>\n",
              "      <td>0.035354</td>\n",
              "      <td>-0.027024</td>\n",
              "      <td>-0.012998</td>\n",
              "      <td>-0.014252</td>\n",
              "      <td>-0.007278</td>\n",
              "      <td>-0.024775</td>\n",
              "      <td>-0.007496</td>\n",
              "      <td>1.000000</td>\n",
              "      <td>0.154127</td>\n",
              "      <td>-0.018500</td>\n",
              "      <td>-0.048681</td>\n",
              "      <td>-0.066233</td>\n",
              "    </tr>\n",
              "    <tr>\n",
              "      <th>previous_bookings_not_canceled</th>\n",
              "      <td>-0.071164</td>\n",
              "      <td>-0.020876</td>\n",
              "      <td>0.000116</td>\n",
              "      <td>-0.040727</td>\n",
              "      <td>-0.047478</td>\n",
              "      <td>-0.105795</td>\n",
              "      <td>-0.020368</td>\n",
              "      <td>-0.006306</td>\n",
              "      <td>0.154127</td>\n",
              "      <td>1.000000</td>\n",
              "      <td>0.046798</td>\n",
              "      <td>0.037551</td>\n",
              "      <td>-0.069786</td>\n",
              "    </tr>\n",
              "    <tr>\n",
              "      <th>required_car_parking_spaces</th>\n",
              "      <td>-0.115707</td>\n",
              "      <td>0.001770</td>\n",
              "      <td>0.008158</td>\n",
              "      <td>-0.018099</td>\n",
              "      <td>-0.024431</td>\n",
              "      <td>0.016107</td>\n",
              "      <td>0.057059</td>\n",
              "      <td>0.036979</td>\n",
              "      <td>-0.018500</td>\n",
              "      <td>0.046798</td>\n",
              "      <td>1.000000</td>\n",
              "      <td>0.082781</td>\n",
              "      <td>0.057978</td>\n",
              "    </tr>\n",
              "    <tr>\n",
              "      <th>total_of_special_requests</th>\n",
              "      <td>-0.096710</td>\n",
              "      <td>0.025810</td>\n",
              "      <td>0.003078</td>\n",
              "      <td>0.072146</td>\n",
              "      <td>0.067360</td>\n",
              "      <td>0.122418</td>\n",
              "      <td>0.081811</td>\n",
              "      <td>0.097654</td>\n",
              "      <td>-0.048681</td>\n",
              "      <td>0.037551</td>\n",
              "      <td>0.082781</td>\n",
              "      <td>1.000000</td>\n",
              "      <td>0.171668</td>\n",
              "    </tr>\n",
              "    <tr>\n",
              "      <th>adr</th>\n",
              "      <td>-0.068174</td>\n",
              "      <td>0.075699</td>\n",
              "      <td>0.030053</td>\n",
              "      <td>0.048701</td>\n",
              "      <td>0.065344</td>\n",
              "      <td>0.221413</td>\n",
              "      <td>0.325228</td>\n",
              "      <td>0.028455</td>\n",
              "      <td>-0.066233</td>\n",
              "      <td>-0.069786</td>\n",
              "      <td>0.057978</td>\n",
              "      <td>0.171668</td>\n",
              "      <td>1.000000</td>\n",
              "    </tr>\n",
              "  </tbody>\n",
              "</table>\n",
              "</div>"
            ],
            "text/plain": [
              "                                lead_time  ...       adr\n",
              "lead_time                        1.000000  ... -0.068174\n",
              "arrival_date_week_number         0.126875  ...  0.075699\n",
              "arrival_date_day_of_month        0.002402  ...  0.030053\n",
              "stays_in_weekend_nights          0.084327  ...  0.048701\n",
              "stays_in_week_nights             0.165913  ...  0.065344\n",
              "adults                           0.115020  ...  0.221413\n",
              "children                        -0.038580  ...  0.325228\n",
              "babies                          -0.021231  ...  0.028455\n",
              "previous_cancellations           0.085949  ... -0.066233\n",
              "previous_bookings_not_canceled  -0.071164  ... -0.069786\n",
              "required_car_parking_spaces     -0.115707  ...  0.057978\n",
              "total_of_special_requests       -0.096710  ...  0.171668\n",
              "adr                             -0.068174  ...  1.000000\n",
              "\n",
              "[13 rows x 13 columns]"
            ]
          },
          "metadata": {
            "tags": []
          },
          "execution_count": 38
        }
      ]
    },
    {
      "cell_type": "markdown",
      "metadata": {
        "id": "Tl4TNXhaekxa",
        "colab_type": "text"
      },
      "source": [
        "## **Modelling**"
      ]
    },
    {
      "cell_type": "markdown",
      "metadata": {
        "id": "luQhXbyZmbAj",
        "colab_type": "text"
      },
      "source": [
        "**Splitting Data**"
      ]
    },
    {
      "cell_type": "markdown",
      "metadata": {
        "id": "6yEpFWLmmdj1",
        "colab_type": "text"
      },
      "source": [
        "The dataset will be split into training set and test set. The training set will be used to train the model and testing set will be used to test the model. The data splitting is based on percentange. The training set is 70% of the dataset while testing set is 30% of the dataset."
      ]
    },
    {
      "cell_type": "code",
      "metadata": {
        "id": "04L4XTC6wQQN",
        "colab_type": "code",
        "colab": {
          "base_uri": "https://localhost:8080/",
          "height": 234
        },
        "outputId": "87cf26dd-7ef5-4f70-b078-5a586aec52f0"
      },
      "source": [
        "# Create dummy variables\n",
        "df_dummies = pd.get_dummies(model_df.drop(columns=['is_canceled']))\n",
        "df_dummies.head()"
      ],
      "execution_count": null,
      "outputs": [
        {
          "output_type": "execute_result",
          "data": {
            "text/html": [
              "<div>\n",
              "<style scoped>\n",
              "    .dataframe tbody tr th:only-of-type {\n",
              "        vertical-align: middle;\n",
              "    }\n",
              "\n",
              "    .dataframe tbody tr th {\n",
              "        vertical-align: top;\n",
              "    }\n",
              "\n",
              "    .dataframe thead th {\n",
              "        text-align: right;\n",
              "    }\n",
              "</style>\n",
              "<table border=\"1\" class=\"dataframe\">\n",
              "  <thead>\n",
              "    <tr style=\"text-align: right;\">\n",
              "      <th></th>\n",
              "      <th>lead_time</th>\n",
              "      <th>arrival_date_week_number</th>\n",
              "      <th>arrival_date_day_of_month</th>\n",
              "      <th>stays_in_weekend_nights</th>\n",
              "      <th>stays_in_week_nights</th>\n",
              "      <th>adults</th>\n",
              "      <th>children</th>\n",
              "      <th>babies</th>\n",
              "      <th>previous_cancellations</th>\n",
              "      <th>previous_bookings_not_canceled</th>\n",
              "      <th>required_car_parking_spaces</th>\n",
              "      <th>total_of_special_requests</th>\n",
              "      <th>adr</th>\n",
              "      <th>arrival_date_month_April</th>\n",
              "      <th>arrival_date_month_August</th>\n",
              "      <th>arrival_date_month_December</th>\n",
              "      <th>arrival_date_month_February</th>\n",
              "      <th>arrival_date_month_January</th>\n",
              "      <th>arrival_date_month_July</th>\n",
              "      <th>arrival_date_month_June</th>\n",
              "      <th>arrival_date_month_March</th>\n",
              "      <th>arrival_date_month_May</th>\n",
              "      <th>arrival_date_month_November</th>\n",
              "      <th>arrival_date_month_October</th>\n",
              "      <th>arrival_date_month_September</th>\n",
              "      <th>meal_BB</th>\n",
              "      <th>meal_FB</th>\n",
              "      <th>meal_HB</th>\n",
              "      <th>meal_SC</th>\n",
              "      <th>market_segment_Aviation</th>\n",
              "      <th>market_segment_Complementary</th>\n",
              "      <th>market_segment_Corporate</th>\n",
              "      <th>market_segment_Direct</th>\n",
              "      <th>market_segment_Groups</th>\n",
              "      <th>market_segment_Offline TA/TO</th>\n",
              "      <th>market_segment_Online TA</th>\n",
              "      <th>distribution_channel_Corporate</th>\n",
              "      <th>distribution_channel_Direct</th>\n",
              "      <th>distribution_channel_GDS</th>\n",
              "      <th>distribution_channel_TA/TO</th>\n",
              "      <th>distribution_channel_Undefined</th>\n",
              "      <th>reserved_room_type_A</th>\n",
              "      <th>reserved_room_type_B</th>\n",
              "      <th>reserved_room_type_C</th>\n",
              "      <th>reserved_room_type_D</th>\n",
              "      <th>reserved_room_type_E</th>\n",
              "      <th>reserved_room_type_F</th>\n",
              "      <th>reserved_room_type_G</th>\n",
              "      <th>reserved_room_type_H</th>\n",
              "      <th>reserved_room_type_L</th>\n",
              "      <th>is_repeated_guest_0</th>\n",
              "      <th>is_repeated_guest_1</th>\n",
              "      <th>deposit_type_No Deposit</th>\n",
              "      <th>deposit_type_Non Refund</th>\n",
              "      <th>deposit_type_Refundable</th>\n",
              "      <th>customer_type_Contract</th>\n",
              "      <th>customer_type_Group</th>\n",
              "      <th>customer_type_Transient</th>\n",
              "      <th>customer_type_Transient-Party</th>\n",
              "    </tr>\n",
              "  </thead>\n",
              "  <tbody>\n",
              "    <tr>\n",
              "      <th>0</th>\n",
              "      <td>342</td>\n",
              "      <td>27</td>\n",
              "      <td>1</td>\n",
              "      <td>0</td>\n",
              "      <td>0</td>\n",
              "      <td>2</td>\n",
              "      <td>0.0</td>\n",
              "      <td>0</td>\n",
              "      <td>0</td>\n",
              "      <td>0</td>\n",
              "      <td>0</td>\n",
              "      <td>0</td>\n",
              "      <td>0.0</td>\n",
              "      <td>0</td>\n",
              "      <td>0</td>\n",
              "      <td>0</td>\n",
              "      <td>0</td>\n",
              "      <td>0</td>\n",
              "      <td>1</td>\n",
              "      <td>0</td>\n",
              "      <td>0</td>\n",
              "      <td>0</td>\n",
              "      <td>0</td>\n",
              "      <td>0</td>\n",
              "      <td>0</td>\n",
              "      <td>1</td>\n",
              "      <td>0</td>\n",
              "      <td>0</td>\n",
              "      <td>0</td>\n",
              "      <td>0</td>\n",
              "      <td>0</td>\n",
              "      <td>0</td>\n",
              "      <td>1</td>\n",
              "      <td>0</td>\n",
              "      <td>0</td>\n",
              "      <td>0</td>\n",
              "      <td>0</td>\n",
              "      <td>1</td>\n",
              "      <td>0</td>\n",
              "      <td>0</td>\n",
              "      <td>0</td>\n",
              "      <td>0</td>\n",
              "      <td>0</td>\n",
              "      <td>1</td>\n",
              "      <td>0</td>\n",
              "      <td>0</td>\n",
              "      <td>0</td>\n",
              "      <td>0</td>\n",
              "      <td>0</td>\n",
              "      <td>0</td>\n",
              "      <td>1</td>\n",
              "      <td>0</td>\n",
              "      <td>1</td>\n",
              "      <td>0</td>\n",
              "      <td>0</td>\n",
              "      <td>0</td>\n",
              "      <td>0</td>\n",
              "      <td>1</td>\n",
              "      <td>0</td>\n",
              "    </tr>\n",
              "    <tr>\n",
              "      <th>1</th>\n",
              "      <td>737</td>\n",
              "      <td>27</td>\n",
              "      <td>1</td>\n",
              "      <td>0</td>\n",
              "      <td>0</td>\n",
              "      <td>2</td>\n",
              "      <td>0.0</td>\n",
              "      <td>0</td>\n",
              "      <td>0</td>\n",
              "      <td>0</td>\n",
              "      <td>0</td>\n",
              "      <td>0</td>\n",
              "      <td>0.0</td>\n",
              "      <td>0</td>\n",
              "      <td>0</td>\n",
              "      <td>0</td>\n",
              "      <td>0</td>\n",
              "      <td>0</td>\n",
              "      <td>1</td>\n",
              "      <td>0</td>\n",
              "      <td>0</td>\n",
              "      <td>0</td>\n",
              "      <td>0</td>\n",
              "      <td>0</td>\n",
              "      <td>0</td>\n",
              "      <td>1</td>\n",
              "      <td>0</td>\n",
              "      <td>0</td>\n",
              "      <td>0</td>\n",
              "      <td>0</td>\n",
              "      <td>0</td>\n",
              "      <td>0</td>\n",
              "      <td>1</td>\n",
              "      <td>0</td>\n",
              "      <td>0</td>\n",
              "      <td>0</td>\n",
              "      <td>0</td>\n",
              "      <td>1</td>\n",
              "      <td>0</td>\n",
              "      <td>0</td>\n",
              "      <td>0</td>\n",
              "      <td>0</td>\n",
              "      <td>0</td>\n",
              "      <td>1</td>\n",
              "      <td>0</td>\n",
              "      <td>0</td>\n",
              "      <td>0</td>\n",
              "      <td>0</td>\n",
              "      <td>0</td>\n",
              "      <td>0</td>\n",
              "      <td>1</td>\n",
              "      <td>0</td>\n",
              "      <td>1</td>\n",
              "      <td>0</td>\n",
              "      <td>0</td>\n",
              "      <td>0</td>\n",
              "      <td>0</td>\n",
              "      <td>1</td>\n",
              "      <td>0</td>\n",
              "    </tr>\n",
              "    <tr>\n",
              "      <th>2</th>\n",
              "      <td>7</td>\n",
              "      <td>27</td>\n",
              "      <td>1</td>\n",
              "      <td>0</td>\n",
              "      <td>1</td>\n",
              "      <td>1</td>\n",
              "      <td>0.0</td>\n",
              "      <td>0</td>\n",
              "      <td>0</td>\n",
              "      <td>0</td>\n",
              "      <td>0</td>\n",
              "      <td>0</td>\n",
              "      <td>75.0</td>\n",
              "      <td>0</td>\n",
              "      <td>0</td>\n",
              "      <td>0</td>\n",
              "      <td>0</td>\n",
              "      <td>0</td>\n",
              "      <td>1</td>\n",
              "      <td>0</td>\n",
              "      <td>0</td>\n",
              "      <td>0</td>\n",
              "      <td>0</td>\n",
              "      <td>0</td>\n",
              "      <td>0</td>\n",
              "      <td>1</td>\n",
              "      <td>0</td>\n",
              "      <td>0</td>\n",
              "      <td>0</td>\n",
              "      <td>0</td>\n",
              "      <td>0</td>\n",
              "      <td>0</td>\n",
              "      <td>1</td>\n",
              "      <td>0</td>\n",
              "      <td>0</td>\n",
              "      <td>0</td>\n",
              "      <td>0</td>\n",
              "      <td>1</td>\n",
              "      <td>0</td>\n",
              "      <td>0</td>\n",
              "      <td>0</td>\n",
              "      <td>1</td>\n",
              "      <td>0</td>\n",
              "      <td>0</td>\n",
              "      <td>0</td>\n",
              "      <td>0</td>\n",
              "      <td>0</td>\n",
              "      <td>0</td>\n",
              "      <td>0</td>\n",
              "      <td>0</td>\n",
              "      <td>1</td>\n",
              "      <td>0</td>\n",
              "      <td>1</td>\n",
              "      <td>0</td>\n",
              "      <td>0</td>\n",
              "      <td>0</td>\n",
              "      <td>0</td>\n",
              "      <td>1</td>\n",
              "      <td>0</td>\n",
              "    </tr>\n",
              "    <tr>\n",
              "      <th>3</th>\n",
              "      <td>13</td>\n",
              "      <td>27</td>\n",
              "      <td>1</td>\n",
              "      <td>0</td>\n",
              "      <td>1</td>\n",
              "      <td>1</td>\n",
              "      <td>0.0</td>\n",
              "      <td>0</td>\n",
              "      <td>0</td>\n",
              "      <td>0</td>\n",
              "      <td>0</td>\n",
              "      <td>0</td>\n",
              "      <td>75.0</td>\n",
              "      <td>0</td>\n",
              "      <td>0</td>\n",
              "      <td>0</td>\n",
              "      <td>0</td>\n",
              "      <td>0</td>\n",
              "      <td>1</td>\n",
              "      <td>0</td>\n",
              "      <td>0</td>\n",
              "      <td>0</td>\n",
              "      <td>0</td>\n",
              "      <td>0</td>\n",
              "      <td>0</td>\n",
              "      <td>1</td>\n",
              "      <td>0</td>\n",
              "      <td>0</td>\n",
              "      <td>0</td>\n",
              "      <td>0</td>\n",
              "      <td>0</td>\n",
              "      <td>1</td>\n",
              "      <td>0</td>\n",
              "      <td>0</td>\n",
              "      <td>0</td>\n",
              "      <td>0</td>\n",
              "      <td>1</td>\n",
              "      <td>0</td>\n",
              "      <td>0</td>\n",
              "      <td>0</td>\n",
              "      <td>0</td>\n",
              "      <td>1</td>\n",
              "      <td>0</td>\n",
              "      <td>0</td>\n",
              "      <td>0</td>\n",
              "      <td>0</td>\n",
              "      <td>0</td>\n",
              "      <td>0</td>\n",
              "      <td>0</td>\n",
              "      <td>0</td>\n",
              "      <td>1</td>\n",
              "      <td>0</td>\n",
              "      <td>1</td>\n",
              "      <td>0</td>\n",
              "      <td>0</td>\n",
              "      <td>0</td>\n",
              "      <td>0</td>\n",
              "      <td>1</td>\n",
              "      <td>0</td>\n",
              "    </tr>\n",
              "    <tr>\n",
              "      <th>4</th>\n",
              "      <td>14</td>\n",
              "      <td>27</td>\n",
              "      <td>1</td>\n",
              "      <td>0</td>\n",
              "      <td>2</td>\n",
              "      <td>2</td>\n",
              "      <td>0.0</td>\n",
              "      <td>0</td>\n",
              "      <td>0</td>\n",
              "      <td>0</td>\n",
              "      <td>0</td>\n",
              "      <td>1</td>\n",
              "      <td>98.0</td>\n",
              "      <td>0</td>\n",
              "      <td>0</td>\n",
              "      <td>0</td>\n",
              "      <td>0</td>\n",
              "      <td>0</td>\n",
              "      <td>1</td>\n",
              "      <td>0</td>\n",
              "      <td>0</td>\n",
              "      <td>0</td>\n",
              "      <td>0</td>\n",
              "      <td>0</td>\n",
              "      <td>0</td>\n",
              "      <td>1</td>\n",
              "      <td>0</td>\n",
              "      <td>0</td>\n",
              "      <td>0</td>\n",
              "      <td>0</td>\n",
              "      <td>0</td>\n",
              "      <td>0</td>\n",
              "      <td>0</td>\n",
              "      <td>0</td>\n",
              "      <td>0</td>\n",
              "      <td>1</td>\n",
              "      <td>0</td>\n",
              "      <td>0</td>\n",
              "      <td>0</td>\n",
              "      <td>1</td>\n",
              "      <td>0</td>\n",
              "      <td>1</td>\n",
              "      <td>0</td>\n",
              "      <td>0</td>\n",
              "      <td>0</td>\n",
              "      <td>0</td>\n",
              "      <td>0</td>\n",
              "      <td>0</td>\n",
              "      <td>0</td>\n",
              "      <td>0</td>\n",
              "      <td>1</td>\n",
              "      <td>0</td>\n",
              "      <td>1</td>\n",
              "      <td>0</td>\n",
              "      <td>0</td>\n",
              "      <td>0</td>\n",
              "      <td>0</td>\n",
              "      <td>1</td>\n",
              "      <td>0</td>\n",
              "    </tr>\n",
              "  </tbody>\n",
              "</table>\n",
              "</div>"
            ],
            "text/plain": [
              "   lead_time  ...  customer_type_Transient-Party\n",
              "0        342  ...                              0\n",
              "1        737  ...                              0\n",
              "2          7  ...                              0\n",
              "3         13  ...                              0\n",
              "4         14  ...                              0\n",
              "\n",
              "[5 rows x 59 columns]"
            ]
          },
          "metadata": {
            "tags": []
          },
          "execution_count": 39
        }
      ]
    },
    {
      "cell_type": "code",
      "metadata": {
        "id": "F_Fhq1hcwWoL",
        "colab_type": "code",
        "colab": {}
      },
      "source": [
        "y = model_df['is_canceled']\n",
        "X = df_dummies #dropped \"is_canceled\""
      ],
      "execution_count": null,
      "outputs": []
    },
    {
      "cell_type": "code",
      "metadata": {
        "id": "Um_vmwnyw2ec",
        "colab_type": "code",
        "colab": {}
      },
      "source": [
        "X_train, X_test, y_train, y_test = train_test_split(\n",
        "    X, y, test_size=0.3, random_state=0)\n",
        "sc = StandardScaler()\n",
        "\n",
        "sc.fit(X_train)\n",
        "X_train_std = sc.transform(X_train)\n",
        "X_test_std = sc.transform(X_test)\n",
        "\n",
        "\n",
        "#load module and all the algorithm tomoorrow"
      ],
      "execution_count": null,
      "outputs": []
    },
    {
      "cell_type": "code",
      "metadata": {
        "id": "fqiHMRA9fXsI",
        "colab_type": "code",
        "colab": {}
      },
      "source": [
        "#ROC module (Ignore this)\n",
        "def ROC(y_test, y_prob):\n",
        "    \n",
        " # Create true and false positive rates\n",
        " false_positive_rate, true_positive_rate, threshold = roc_curve(y_test, y_prob)\n",
        " # Plot ROC curve\n",
        " plt.title('Receiver Operating Characteristic')\n",
        " plt.plot(false_positive_rate, true_positive_rate)\n",
        " plt.plot([0, 1], ls=\"--\")\n",
        " plt.plot([0, 0], [1, 0] , c=\".7\"), plt.plot([1, 1] , c=\".7\")\n",
        " plt.ylabel('True Positive Rate')\n",
        " plt.xlabel('False Positive Rate')\n",
        " plt.show()  "
      ],
      "execution_count": null,
      "outputs": []
    },
    {
      "cell_type": "markdown",
      "metadata": {
        "id": "bdHio6sqme8l",
        "colab_type": "text"
      },
      "source": [
        "**Algorithms Selected**"
      ]
    },
    {
      "cell_type": "markdown",
      "metadata": {
        "id": "cZFV1ntamjyn",
        "colab_type": "text"
      },
      "source": [
        "There are total 4 supervised learning algorithms selected to model the dataset in order to find the best modelling technique to solve the business problem is which predicting booking cancelation. "
      ]
    },
    {
      "cell_type": "markdown",
      "metadata": {
        "id": "7Kgp2tCPmk7Q",
        "colab_type": "text"
      },
      "source": [
        "**1) Logistric Regression**"
      ]
    },
    {
      "cell_type": "markdown",
      "metadata": {
        "id": "2tVPa4-foGIY",
        "colab_type": "text"
      },
      "source": [
        "Logistic regression is a statistical model that in basic form uses a logistic function to model binary dependant variable, although many more complex extension exist. In regression analysis, logical regession is estimating the parameter of a logistic model. Mathematically, a binary logistic model has a dependant variable with two possible values, such as pass/fail which is represented by an indicator variable, where the two values are labeled \"0\" and \"1\". "
      ]
    },
    {
      "cell_type": "code",
      "metadata": {
        "id": "orE8kRQtoUsj",
        "colab_type": "code",
        "colab": {
          "base_uri": "https://localhost:8080/",
          "height": 372
        },
        "outputId": "00dcf028-2866-4e57-e665-629b586eefc5"
      },
      "source": [
        "from sklearn.linear_model import LogisticRegression\n",
        "lr = LogisticRegression()\n",
        "lr.fit(X_train_std, y_train)\n",
        "y_lr_pred = lr.predict(X_test_std)\n",
        "\n",
        "print('Accuracy: %.4f' % accuracy_score(y_test, y_lr_pred))\n",
        "print(confusion_matrix(y_test, y_lr_pred))\n",
        "print(classification_report(y_test,y_lr_pred))"
      ],
      "execution_count": null,
      "outputs": [
        {
          "output_type": "stream",
          "text": [
            "Accuracy: 0.8044\n",
            "[[20893  1420]\n",
            " [ 5546  7760]]\n",
            "              precision    recall  f1-score   support\n",
            "\n",
            "           0       0.79      0.94      0.86     22313\n",
            "           1       0.85      0.58      0.69     13306\n",
            "\n",
            "    accuracy                           0.80     35619\n",
            "   macro avg       0.82      0.76      0.77     35619\n",
            "weighted avg       0.81      0.80      0.79     35619\n",
            "\n"
          ],
          "name": "stdout"
        },
        {
          "output_type": "stream",
          "text": [
            "/usr/local/lib/python3.6/dist-packages/sklearn/linear_model/_logistic.py:940: ConvergenceWarning: lbfgs failed to converge (status=1):\n",
            "STOP: TOTAL NO. of ITERATIONS REACHED LIMIT.\n",
            "\n",
            "Increase the number of iterations (max_iter) or scale the data as shown in:\n",
            "    https://scikit-learn.org/stable/modules/preprocessing.html\n",
            "Please also refer to the documentation for alternative solver options:\n",
            "    https://scikit-learn.org/stable/modules/linear_model.html#logistic-regression\n",
            "  extra_warning_msg=_LOGISTIC_SOLVER_CONVERGENCE_MSG)\n"
          ],
          "name": "stderr"
        }
      ]
    },
    {
      "cell_type": "markdown",
      "metadata": {
        "id": "to-CIpv8fAVj",
        "colab_type": "text"
      },
      "source": [
        "**K-fold validation**"
      ]
    },
    {
      "cell_type": "code",
      "metadata": {
        "id": "e2qFgv9ocl3j",
        "colab_type": "code",
        "colab": {
          "base_uri": "https://localhost:8080/",
          "height": 34
        },
        "outputId": "e7b5e4dc-02c0-4e70-ed0c-f1122d151f4f"
      },
      "source": [
        "LogR = LogisticRegression(solver = \"liblinear\")\n",
        "cv_scores = cross_val_score(LogR, X, y, cv = 8, scoring = 'accuracy')\n",
        "print('Mean Score of CV: ', cv_scores.mean())"
      ],
      "execution_count": null,
      "outputs": [
        {
          "output_type": "stream",
          "text": [
            "Mean Score of CV:  0.7140354423556364\n"
          ],
          "name": "stdout"
        }
      ]
    },
    {
      "cell_type": "markdown",
      "metadata": {
        "id": "wgcf_drgfCwU",
        "colab_type": "text"
      },
      "source": [
        "**ROC**"
      ]
    },
    {
      "cell_type": "code",
      "metadata": {
        "id": "AFCo-Zt6fGUb",
        "colab_type": "code",
        "colab": {
          "base_uri": "https://localhost:8080/",
          "height": 301
        },
        "outputId": "5b65b5f8-a5ca-410f-8fcf-0374af49479a"
      },
      "source": [
        "y_prob = lr.predict_proba(X_test_std)[:,1]\n",
        "ROC(y_test, y_prob)  "
      ],
      "execution_count": null,
      "outputs": [
        {
          "output_type": "display_data",
          "data": {
            "image/png": "[encoded data removed]",
            "text/plain": [
              "<Figure size 432x288 with 1 Axes>"
            ]
          },
          "metadata": {
            "tags": []
          }
        }
      ]
    },
    {
      "cell_type": "markdown",
      "metadata": {
        "id": "01btuO7lmqk9",
        "colab_type": "text"
      },
      "source": [
        "**2) Decision Tree**"
      ]
    },
    {
      "cell_type": "markdown",
      "metadata": {
        "id": "s-azYHDDoHh2",
        "colab_type": "text"
      },
      "source": [
        "In computer science, Decision tree learning uses a decision tree to go from a observation about an item, to conclusions about the item's target value. It is one of the predictive modelling approaches uses in statistics, data mining and machine learning. Tree models where the target variable can take a discrete set of values are called classification trees. In these tree structures, leaves present the class labels and branches represent the conjuctions of the features that lead to those class labels. Decision trees where the target variable can take continuous values are called regression tree."
      ]
    },
    {
      "cell_type": "markdown",
      "metadata": {
        "id": "yX9NfQCBR1DS",
        "colab_type": "text"
      },
      "source": [
        "**Decision Tree Accuracy**"
      ]
    },
    {
      "cell_type": "code",
      "metadata": {
        "id": "HiJgC6GDoSAy",
        "colab_type": "code",
        "colab": {
          "base_uri": "https://localhost:8080/",
          "height": 230
        },
        "outputId": "19ac4273-e963-4bd7-9f1c-7bf9acad0d19"
      },
      "source": [
        "from sklearn.tree import DecisionTreeClassifier\n",
        "\n",
        "clf = DecisionTreeClassifier()\n",
        "clf.fit(X_train_std, y_train)\n",
        "y_clf_pred = clf.predict(X_test_std)\n",
        "\n",
        "print('Accuracy: %.4f' % accuracy_score(y_test, y_clf_pred))\n",
        "print(confusion_matrix(y_test, y_clf_pred))\n",
        "print(classification_report(y_test,y_clf_pred))"
      ],
      "execution_count": null,
      "outputs": [
        {
          "output_type": "stream",
          "text": [
            "Accuracy: 0.8134\n",
            "[[18992  3321]\n",
            " [ 3326  9980]]\n",
            "              precision    recall  f1-score   support\n",
            "\n",
            "           0       0.85      0.85      0.85     22313\n",
            "           1       0.75      0.75      0.75     13306\n",
            "\n",
            "    accuracy                           0.81     35619\n",
            "   macro avg       0.80      0.80      0.80     35619\n",
            "weighted avg       0.81      0.81      0.81     35619\n",
            "\n"
          ],
          "name": "stdout"
        }
      ]
    },
    {
      "cell_type": "markdown",
      "metadata": {
        "id": "d9F_trWASkvy",
        "colab_type": "text"
      },
      "source": [
        "**K-fold validation**"
      ]
    },
    {
      "cell_type": "code",
      "metadata": {
        "id": "Vsg2iYQscLjR",
        "colab_type": "code",
        "colab": {
          "base_uri": "https://localhost:8080/",
          "height": 34
        },
        "outputId": "43cc5655-0239-4981-a36b-0db5c110a43b"
      },
      "source": [
        "LogD = DecisionTreeClassifier(max_depth = 12)\n",
        "cv_scores = cross_val_score(LogD, X, y, cv = 8, scoring = 'accuracy')\n",
        "print('Mean Score of CV: ', cv_scores.mean())"
      ],
      "execution_count": null,
      "outputs": [
        {
          "output_type": "stream",
          "text": [
            "Mean Score of CV:  0.6888012937133616\n"
          ],
          "name": "stdout"
        }
      ]
    },
    {
      "cell_type": "markdown",
      "metadata": {
        "id": "7fhCgVWaSdso",
        "colab_type": "text"
      },
      "source": [
        "**Evaluate Decision Tree performance using ROC**"
      ]
    },
    {
      "cell_type": "code",
      "metadata": {
        "id": "r5M-NOy7Owu6",
        "colab_type": "code",
        "colab": {
          "base_uri": "https://localhost:8080/",
          "height": 301
        },
        "outputId": "8db980b6-a8e9-4d3a-d9e2-db4675e329d7"
      },
      "source": [
        "y_prob = clf.predict_proba(X_test_std)[:,1]\n",
        "ROC(y_test, y_prob)"
      ],
      "execution_count": null,
      "outputs": [
        {
          "output_type": "display_data",
          "data": {
            "image/png": "[encoded data removed]",
            "text/plain": [
              "<Figure size 432x288 with 1 Axes>"
            ]
          },
          "metadata": {
            "tags": []
          }
        }
      ]
    },
    {
      "cell_type": "markdown",
      "metadata": {
        "id": "A4rDXDSjmsNx",
        "colab_type": "text"
      },
      "source": [
        "**3) Random Forest**"
      ]
    },
    {
      "cell_type": "markdown",
      "metadata": {
        "id": "u8i9lRXgoH-e",
        "colab_type": "text"
      },
      "source": [
        "Random forest or random decision forests are an assemble learning method for classification, regression and other tasks that operates by constructing a multitude of decision trees at training time and outputting the class that is the mode of the classes (classification) or mean prediction (regression) of the individual trees. Random decision forests correct for decision trees' habit of overfitting to their training set. "
      ]
    },
    {
      "cell_type": "code",
      "metadata": {
        "id": "-hUDZPQGoVIx",
        "colab_type": "code",
        "colab": {
          "base_uri": "https://localhost:8080/",
          "height": 230
        },
        "outputId": "25ff34bb-8ce0-4491-c8c7-330071d56949"
      },
      "source": [
        "from sklearn.ensemble import RandomForestClassifier\n",
        "\n",
        "rfl = RandomForestClassifier()\n",
        "rfl.fit(X_train_std, y_train)\n",
        "y_rfl_pred = rfl.predict(X_test_std)\n",
        "\n",
        "print('Accuracy: %.4f' % accuracy_score(y_test, y_rfl_pred))\n",
        "print(confusion_matrix(y_test, y_rfl_pred))\n",
        "print(classification_report(y_test,y_rfl_pred))"
      ],
      "execution_count": null,
      "outputs": [
        {
          "output_type": "stream",
          "text": [
            "Accuracy: 0.8565\n",
            "[[20647  1666]\n",
            " [ 3444  9862]]\n",
            "              precision    recall  f1-score   support\n",
            "\n",
            "           0       0.86      0.93      0.89     22313\n",
            "           1       0.86      0.74      0.79     13306\n",
            "\n",
            "    accuracy                           0.86     35619\n",
            "   macro avg       0.86      0.83      0.84     35619\n",
            "weighted avg       0.86      0.86      0.85     35619\n",
            "\n"
          ],
          "name": "stdout"
        }
      ]
    },
    {
      "cell_type": "markdown",
      "metadata": {
        "id": "iFvzDq3WPgGZ",
        "colab_type": "text"
      },
      "source": [
        "**K-fold validation**"
      ]
    },
    {
      "cell_type": "code",
      "metadata": {
        "id": "LTRWL3-hPiOr",
        "colab_type": "code",
        "colab": {
          "base_uri": "https://localhost:8080/",
          "height": 34
        },
        "outputId": "ddf7256f-5345-4176-e7c4-1fc8ebfa8145"
      },
      "source": [
        "LogF = RandomForestClassifier()\n",
        "cv_scores = cross_val_score(LogF, X, y, cv = 8, scoring = 'accuracy')\n",
        "print('Mean Score of CV: ', cv_scores.mean())"
      ],
      "execution_count": null,
      "outputs": [
        {
          "output_type": "stream",
          "text": [
            "Mean Score of CV:  0.6073377804730139\n"
          ],
          "name": "stdout"
        }
      ]
    },
    {
      "cell_type": "markdown",
      "metadata": {
        "id": "5qR0MfQwWZ3l",
        "colab_type": "text"
      },
      "source": [
        "**Evaluate Random Forest performance using ROC**"
      ]
    },
    {
      "cell_type": "code",
      "metadata": {
        "id": "MmamermBWtx-",
        "colab_type": "code",
        "colab": {
          "base_uri": "https://localhost:8080/",
          "height": 301
        },
        "outputId": "bf4c66a3-4d26-4e20-89f1-4e54a518e5a5"
      },
      "source": [
        "y_prob = rfl.predict_proba(X_test_std)[:,1]\n",
        "ROC(y_test, y_prob)"
      ],
      "execution_count": null,
      "outputs": [
        {
          "output_type": "display_data",
          "data": {
            "image/png": "[encoded data removed]",
            "text/plain": [
              "<Figure size 432x288 with 1 Axes>"
            ]
          },
          "metadata": {
            "tags": []
          }
        }
      ]
    },
    {
      "cell_type": "markdown",
      "metadata": {
        "id": "U_IncNEWn-Ga",
        "colab_type": "text"
      },
      "source": [
        "**4) Gaussian Naive Bayes**"
      ]
    },
    {
      "cell_type": "markdown",
      "metadata": {
        "id": "b5mhT8WuoIff",
        "colab_type": "text"
      },
      "source": [
        "In machine learning, Naive Bayes classifiers are a family of simple \"probability\" classifiers\" based on applying Bayes' theorem with strong (naive) independance assumptions between the features. Naive Bayes classifiers are highly scalable, requiring a number of parameter linear in the number of variable (features) in learning problem. Maximum-likelihood training can be done by evaluating a closed-form expression, which takes linear time, rather than by expensive iterative approximation as used for many other types of classifiers."
      ]
    },
    {
      "cell_type": "code",
      "metadata": {
        "id": "LSre-ikaoVid",
        "colab_type": "code",
        "colab": {
          "base_uri": "https://localhost:8080/",
          "height": 230
        },
        "outputId": "b225a14e-b7d0-4d33-8b12-5181be363b3d"
      },
      "source": [
        "from sklearn.naive_bayes import GaussianNB\n",
        "\n",
        "gnb1 = GaussianNB()\n",
        "gnb1.fit(X_train_std, y_train)\n",
        "y_gnb1_pred = gnb1.predict(X_test_std)\n",
        "\n",
        "print('Accuracy: %.4f' % accuracy_score(y_test, y_gnb1_pred))\n",
        "print(confusion_matrix(y_test, y_gnb1_pred))\n",
        "print(classification_report(y_test,y_gnb1_pred))"
      ],
      "execution_count": null,
      "outputs": [
        {
          "output_type": "stream",
          "text": [
            "Accuracy: 0.4844\n",
            "[[ 4429 17884]\n",
            " [  482 12824]]\n",
            "              precision    recall  f1-score   support\n",
            "\n",
            "           0       0.90      0.20      0.33     22313\n",
            "           1       0.42      0.96      0.58     13306\n",
            "\n",
            "    accuracy                           0.48     35619\n",
            "   macro avg       0.66      0.58      0.45     35619\n",
            "weighted avg       0.72      0.48      0.42     35619\n",
            "\n"
          ],
          "name": "stdout"
        }
      ]
    },
    {
      "cell_type": "markdown",
      "metadata": {
        "id": "7gyZv-l6aMzE",
        "colab_type": "text"
      },
      "source": [
        "**K-fold validation**"
      ]
    },
    {
      "cell_type": "code",
      "metadata": {
        "id": "-F3O-GQ3aRvE",
        "colab_type": "code",
        "colab": {
          "base_uri": "https://localhost:8080/",
          "height": 34
        },
        "outputId": "531a5824-979e-4eee-ab6b-ecea4d5fc37e"
      },
      "source": [
        "LogQ = GaussianNB()\n",
        "cv_scores = cross_val_score(LogQ, X, y, cv = 8, scoring = 'accuracy')\n",
        "print('Mean Score of CV: ', cv_scores.mean())"
      ],
      "execution_count": null,
      "outputs": [
        {
          "output_type": "stream",
          "text": [
            "Mean Score of CV:  0.512322282865036\n"
          ],
          "name": "stdout"
        }
      ]
    },
    {
      "cell_type": "markdown",
      "metadata": {
        "id": "N2iB0eHCaeoo",
        "colab_type": "text"
      },
      "source": [
        "**Evaluate Gaussian Naive Bayes performance using ROC**"
      ]
    },
    {
      "cell_type": "code",
      "metadata": {
        "id": "m14XU_heaj7d",
        "colab_type": "code",
        "colab": {
          "base_uri": "https://localhost:8080/",
          "height": 301
        },
        "outputId": "d27e074e-830d-43cf-a020-50ec7e94a444"
      },
      "source": [
        "y_prob = gnb1.predict_proba(X_test_std)[:,1]\n",
        "ROC(y_test, y_prob)"
      ],
      "execution_count": null,
      "outputs": [
        {
          "output_type": "display_data",
          "data": {
            "image/png": "[encoded data removed]",
            "text/plain": [
              "<Figure size 432x288 with 1 Axes>"
            ]
          },
          "metadata": {
            "tags": []
          }
        }
      ]
    },
    {
      "cell_type": "markdown",
      "metadata": {
        "id": "vOHchHH9oBcq",
        "colab_type": "text"
      },
      "source": [
        "## **Evaluation**"
      ]
    },
    {
      "cell_type": "markdown",
      "metadata": {
        "id": "oxgqpNWooZ0k",
        "colab_type": "text"
      },
      "source": [
        "**Important of Evaluation Element**"
      ]
    },
    {
      "cell_type": "markdown",
      "metadata": {
        "id": "HbCYY5V0oeDa",
        "colab_type": "text"
      },
      "source": [
        "In this case, it is important to get a high true positive rate as it used to correctly determine the possibilities of the customer to cancel their bookings so that the hotel can resell their rooms in time. If the true positive rate is high, which mean the customers' booking with associated features are likely to be correctly predicted canceled. Hence, precision are the most important elements of evaluation compared to accuracy and recall because precision indicate how well the prediction goes where the customer's booking with associated features are likely to be canceled. It doesnt matter the predicted numbers are difference from the actual numbers, but it is important for the predict booking really canceled in the predicted range of features. "
      ]
    },
    {
      "cell_type": "markdown",
      "metadata": {
        "id": "ZTiCCNZjofDs",
        "colab_type": "text"
      },
      "source": [
        "**Accuracy**"
      ]
    },
    {
      "cell_type": "markdown",
      "metadata": {
        "id": "p0NwSl0nohz7",
        "colab_type": "text"
      },
      "source": [
        "Accuracy is the ratio of correctly predicted observation over the total observation. A high accuracy score cannot indicate the algorithms with high accuracy perform the best."
      ]
    },
    {
      "cell_type": "code",
      "metadata": {
        "id": "TiQ5e4HNePA8",
        "colab_type": "code",
        "colab": {
          "base_uri": "https://localhost:8080/",
          "height": 197
        },
        "outputId": "9c3658f0-e3c4-408b-db0b-0e0c93c55041"
      },
      "source": [
        "table = pd.DataFrame({\"Model\": [\"Logistic Regression\", \"Decision Tree\",\n",
        "                                \"Random Forest\", \"Gaussian Naive Bayes\"],\n",
        "                     \"Accuracy Scores\": [\"0.804\", \"0.813\", \"0.857\",\"0.484\"]})\n",
        "\n",
        "\n",
        "table[\"Model\"] = table[\"Model\"].astype(\"category\")\n",
        "table[\"Accuracy Scores\"] = table[\"Accuracy Scores\"].astype(\"float32\")\n",
        "\n",
        "pd.pivot_table(table, index = [\"Model\"]).sort_values(by = 'Accuracy Scores', ascending=False)"
      ],
      "execution_count": null,
      "outputs": [
        {
          "output_type": "execute_result",
          "data": {
            "text/html": [
              "<div>\n",
              "<style scoped>\n",
              "    .dataframe tbody tr th:only-of-type {\n",
              "        vertical-align: middle;\n",
              "    }\n",
              "\n",
              "    .dataframe tbody tr th {\n",
              "        vertical-align: top;\n",
              "    }\n",
              "\n",
              "    .dataframe thead th {\n",
              "        text-align: right;\n",
              "    }\n",
              "</style>\n",
              "<table border=\"1\" class=\"dataframe\">\n",
              "  <thead>\n",
              "    <tr style=\"text-align: right;\">\n",
              "      <th></th>\n",
              "      <th>Accuracy Scores</th>\n",
              "    </tr>\n",
              "    <tr>\n",
              "      <th>Model</th>\n",
              "      <th></th>\n",
              "    </tr>\n",
              "  </thead>\n",
              "  <tbody>\n",
              "    <tr>\n",
              "      <th>Random Forest</th>\n",
              "      <td>0.857</td>\n",
              "    </tr>\n",
              "    <tr>\n",
              "      <th>Decision Tree</th>\n",
              "      <td>0.813</td>\n",
              "    </tr>\n",
              "    <tr>\n",
              "      <th>Logistic Regression</th>\n",
              "      <td>0.804</td>\n",
              "    </tr>\n",
              "    <tr>\n",
              "      <th>Gaussian Naive Bayes</th>\n",
              "      <td>0.484</td>\n",
              "    </tr>\n",
              "  </tbody>\n",
              "</table>\n",
              "</div>"
            ],
            "text/plain": [
              "                      Accuracy Scores\n",
              "Model                                \n",
              "Random Forest                   0.857\n",
              "Decision Tree                   0.813\n",
              "Logistic Regression             0.804\n",
              "Gaussian Naive Bayes            0.484"
            ]
          },
          "metadata": {
            "tags": []
          },
          "execution_count": 61
        }
      ]
    },
    {
      "cell_type": "markdown",
      "metadata": {
        "id": "DKbs7cHSokyC",
        "colab_type": "text"
      },
      "source": [
        "**Precision**"
      ]
    },
    {
      "cell_type": "markdown",
      "metadata": {
        "id": "BQlHnrUdonJw",
        "colab_type": "text"
      },
      "source": [
        "Precision measure the ratio of correctly predicted positive observations to the total predicted positive observations. A higher value of precision indicates that the result are predicted accurately. It is important as a method to investigate the performance of an algorithms in predicting the labels."
      ]
    },
    {
      "cell_type": "code",
      "metadata": {
        "id": "4c9MjIrYjB7U",
        "colab_type": "code",
        "colab": {
          "base_uri": "https://localhost:8080/",
          "height": 197
        },
        "outputId": "2d0d2269-b64d-4d94-ec8d-2ecadf537b3e"
      },
      "source": [
        "table = pd.DataFrame({\"Model\": [\"Logistic Regression\", \"Decision Tree\",\n",
        "                                \"Random Forest\", \"Gaussian Naive Bayes\"],\n",
        "                     \"Precision Scores\": [\"0.85\", \"0.75\", \"0.86\",\"0.42\"]})\n",
        "\n",
        "\n",
        "table[\"Model\"] = table[\"Model\"].astype(\"category\")\n",
        "table[\"Precision Scores\"] = table[\"Precision Scores\"].astype(\"float32\")\n",
        "\n",
        "pd.pivot_table(table, index = [\"Model\"]).sort_values(by = 'Precision Scores', ascending=False)"
      ],
      "execution_count": null,
      "outputs": [
        {
          "output_type": "execute_result",
          "data": {
            "text/html": [
              "<div>\n",
              "<style scoped>\n",
              "    .dataframe tbody tr th:only-of-type {\n",
              "        vertical-align: middle;\n",
              "    }\n",
              "\n",
              "    .dataframe tbody tr th {\n",
              "        vertical-align: top;\n",
              "    }\n",
              "\n",
              "    .dataframe thead th {\n",
              "        text-align: right;\n",
              "    }\n",
              "</style>\n",
              "<table border=\"1\" class=\"dataframe\">\n",
              "  <thead>\n",
              "    <tr style=\"text-align: right;\">\n",
              "      <th></th>\n",
              "      <th>Precision Scores</th>\n",
              "    </tr>\n",
              "    <tr>\n",
              "      <th>Model</th>\n",
              "      <th></th>\n",
              "    </tr>\n",
              "  </thead>\n",
              "  <tbody>\n",
              "    <tr>\n",
              "      <th>Random Forest</th>\n",
              "      <td>0.86</td>\n",
              "    </tr>\n",
              "    <tr>\n",
              "      <th>Logistic Regression</th>\n",
              "      <td>0.85</td>\n",
              "    </tr>\n",
              "    <tr>\n",
              "      <th>Decision Tree</th>\n",
              "      <td>0.75</td>\n",
              "    </tr>\n",
              "    <tr>\n",
              "      <th>Gaussian Naive Bayes</th>\n",
              "      <td>0.42</td>\n",
              "    </tr>\n",
              "  </tbody>\n",
              "</table>\n",
              "</div>"
            ],
            "text/plain": [
              "                      Precision Scores\n",
              "Model                                 \n",
              "Random Forest                     0.86\n",
              "Logistic Regression               0.85\n",
              "Decision Tree                     0.75\n",
              "Gaussian Naive Bayes              0.42"
            ]
          },
          "metadata": {
            "tags": []
          },
          "execution_count": 75
        }
      ]
    },
    {
      "cell_type": "markdown",
      "metadata": {
        "id": "ju1UGd8MoqiU",
        "colab_type": "text"
      },
      "source": [
        "**Recall**"
      ]
    },
    {
      "cell_type": "markdown",
      "metadata": {
        "id": "SfScTW5_os6O",
        "colab_type": "text"
      },
      "source": [
        "Recall is the ratio of correctly predicted positive observations to the actual observations. It is useful in measuring the number of false positive values in the observation. "
      ]
    },
    {
      "cell_type": "code",
      "metadata": {
        "id": "AeZ_jeNIjiAk",
        "colab_type": "code",
        "colab": {
          "base_uri": "https://localhost:8080/",
          "height": 197
        },
        "outputId": "33960f76-c687-4f05-d782-878a7f6fd489"
      },
      "source": [
        "table = pd.DataFrame({\"Model\": [\"Logistic Regression\", \"Decision Tree\",\n",
        "                                \"Random Forest\", \"Gaussian Naive Bayes\"],\n",
        "                     \"Recall Scores\": [\"0.58\", \"0.75\", \"0.74\",\"0.96\"]})\n",
        "\n",
        "\n",
        "table[\"Model\"] = table[\"Model\"].astype(\"category\")\n",
        "table[\"Recall Scores\"] = table[\"Recall Scores\"].astype(\"float32\")\n",
        "\n",
        "pd.pivot_table(table, index = [\"Model\"]).sort_values(by = 'Recall Scores', ascending=False)"
      ],
      "execution_count": null,
      "outputs": [
        {
          "output_type": "execute_result",
          "data": {
            "text/html": [
              "<div>\n",
              "<style scoped>\n",
              "    .dataframe tbody tr th:only-of-type {\n",
              "        vertical-align: middle;\n",
              "    }\n",
              "\n",
              "    .dataframe tbody tr th {\n",
              "        vertical-align: top;\n",
              "    }\n",
              "\n",
              "    .dataframe thead th {\n",
              "        text-align: right;\n",
              "    }\n",
              "</style>\n",
              "<table border=\"1\" class=\"dataframe\">\n",
              "  <thead>\n",
              "    <tr style=\"text-align: right;\">\n",
              "      <th></th>\n",
              "      <th>Recall Scores</th>\n",
              "    </tr>\n",
              "    <tr>\n",
              "      <th>Model</th>\n",
              "      <th></th>\n",
              "    </tr>\n",
              "  </thead>\n",
              "  <tbody>\n",
              "    <tr>\n",
              "      <th>Gaussian Naive Bayes</th>\n",
              "      <td>0.96</td>\n",
              "    </tr>\n",
              "    <tr>\n",
              "      <th>Decision Tree</th>\n",
              "      <td>0.75</td>\n",
              "    </tr>\n",
              "    <tr>\n",
              "      <th>Random Forest</th>\n",
              "      <td>0.74</td>\n",
              "    </tr>\n",
              "    <tr>\n",
              "      <th>Logistic Regression</th>\n",
              "      <td>0.58</td>\n",
              "    </tr>\n",
              "  </tbody>\n",
              "</table>\n",
              "</div>"
            ],
            "text/plain": [
              "                      Recall Scores\n",
              "Model                              \n",
              "Gaussian Naive Bayes           0.96\n",
              "Decision Tree                  0.75\n",
              "Random Forest                  0.74\n",
              "Logistic Regression            0.58"
            ]
          },
          "metadata": {
            "tags": []
          },
          "execution_count": 76
        }
      ]
    },
    {
      "cell_type": "markdown",
      "metadata": {
        "id": "ryXAVUxhovNy",
        "colab_type": "text"
      },
      "source": [
        "**F1 Score**"
      ]
    },
    {
      "cell_type": "markdown",
      "metadata": {
        "id": "RzforaWFoxRO",
        "colab_type": "text"
      },
      "source": [
        "F1 score is the weighted average of precision and recall. Therefore, this score take both false positives and false negatives into the credit. It is a preferred method than accuracy score. F1 score might be a better measure to use if we need to seek a balance between the precision and recall."
      ]
    },
    {
      "cell_type": "code",
      "metadata": {
        "id": "RbNsE_1Ej5y3",
        "colab_type": "code",
        "colab": {
          "base_uri": "https://localhost:8080/",
          "height": 197
        },
        "outputId": "dafb02b9-f5a7-4d9f-ca83-b398a3f9973b"
      },
      "source": [
        "table = pd.DataFrame({\"Model\": [\"Logistic Regression\", \"Decision Tree\",\n",
        "                                \"Random Forest\", \"Gaussian Naive Bayes\"],\n",
        "                     \"F1 Scores\": [\"0.69\", \"0.75\", \"0.79\",\"0.58\"]})\n",
        "\n",
        "\n",
        "table[\"Model\"] = table[\"Model\"].astype(\"category\")\n",
        "table[\"F1 Scores\"] = table[\"F1 Scores\"].astype(\"float32\")\n",
        "\n",
        "pd.pivot_table(table, index = [\"Model\"]).sort_values(by = 'F1 Scores', ascending=False)"
      ],
      "execution_count": null,
      "outputs": [
        {
          "output_type": "execute_result",
          "data": {
            "text/html": [
              "<div>\n",
              "<style scoped>\n",
              "    .dataframe tbody tr th:only-of-type {\n",
              "        vertical-align: middle;\n",
              "    }\n",
              "\n",
              "    .dataframe tbody tr th {\n",
              "        vertical-align: top;\n",
              "    }\n",
              "\n",
              "    .dataframe thead th {\n",
              "        text-align: right;\n",
              "    }\n",
              "</style>\n",
              "<table border=\"1\" class=\"dataframe\">\n",
              "  <thead>\n",
              "    <tr style=\"text-align: right;\">\n",
              "      <th></th>\n",
              "      <th>F1 Scores</th>\n",
              "    </tr>\n",
              "    <tr>\n",
              "      <th>Model</th>\n",
              "      <th></th>\n",
              "    </tr>\n",
              "  </thead>\n",
              "  <tbody>\n",
              "    <tr>\n",
              "      <th>Random Forest</th>\n",
              "      <td>0.79</td>\n",
              "    </tr>\n",
              "    <tr>\n",
              "      <th>Decision Tree</th>\n",
              "      <td>0.75</td>\n",
              "    </tr>\n",
              "    <tr>\n",
              "      <th>Logistic Regression</th>\n",
              "      <td>0.69</td>\n",
              "    </tr>\n",
              "    <tr>\n",
              "      <th>Gaussian Naive Bayes</th>\n",
              "      <td>0.58</td>\n",
              "    </tr>\n",
              "  </tbody>\n",
              "</table>\n",
              "</div>"
            ],
            "text/plain": [
              "                      F1 Scores\n",
              "Model                          \n",
              "Random Forest              0.79\n",
              "Decision Tree              0.75\n",
              "Logistic Regression        0.69\n",
              "Gaussian Naive Bayes       0.58"
            ]
          },
          "metadata": {
            "tags": []
          },
          "execution_count": 78
        }
      ]
    },
    {
      "cell_type": "markdown",
      "metadata": {
        "id": "n_zYGJ0Ho0sV",
        "colab_type": "text"
      },
      "source": [
        "## **Deployment**\n",
        "Pros and Conns of Algorithms Used"
      ]
    },
    {
      "cell_type": "markdown",
      "metadata": {
        "id": "izVsHr61o7_E",
        "colab_type": "text"
      },
      "source": [
        "### **1) Random Forest Classifer**"
      ]
    },
    {
      "cell_type": "markdown",
      "metadata": {
        "id": "uIdY445BpNcf",
        "colab_type": "text"
      },
      "source": [
        "**Pros**"
      ]
    },
    {
      "cell_type": "markdown",
      "metadata": {
        "id": "IRZGLwPBpmSa",
        "colab_type": "text"
      },
      "source": [
        "\n",
        "\n",
        "*   A single decision tree tends to overfit the data. Hence, random forest (the process of averaging or combining the results of different decision trees) helps to overcome the problem of overfitting.\n",
        "*   It works for large range of data items than single decision trees as it has less variance compare to single decision tree.\n",
        "\n"
      ]
    },
    {
      "cell_type": "markdown",
      "metadata": {
        "id": "m7sHHcSLpkqM",
        "colab_type": "text"
      },
      "source": [
        "**Cons**"
      ]
    },
    {
      "cell_type": "markdown",
      "metadata": {
        "id": "hU_8FfXopnoP",
        "colab_type": "text"
      },
      "source": [
        "*   High Complexity as it harder and time-consuming to contrust than decision trees.\n",
        "*   Less intuitive and need more computational resources. Large collection of decision trees cause difficult to have an intuitive grasp of the relationship existing in the input data.\n",
        "\n"
      ]
    },
    {
      "cell_type": "markdown",
      "metadata": {
        "id": "tyrjTa9wpopd",
        "colab_type": "text"
      },
      "source": [
        "###**2) Decision Tree**"
      ]
    },
    {
      "cell_type": "markdown",
      "metadata": {
        "id": "1ZvgtCFSGi6Y",
        "colab_type": "text"
      },
      "source": [
        "**Pros**"
      ]
    },
    {
      "cell_type": "markdown",
      "metadata": {
        "id": "dgx_L4arHDr7",
        "colab_type": "text"
      },
      "source": [
        "\n",
        "*   Perfect for visual representation and easy to understand.\n",
        "*   Work with numerical and categorical features."
      ]
    },
    {
      "cell_type": "markdown",
      "metadata": {
        "id": "fV7COl4EHIa2",
        "colab_type": "text"
      },
      "source": [
        "**Cons**"
      ]
    },
    {
      "cell_type": "markdown",
      "metadata": {
        "id": "JeG3pllVHLju",
        "colab_type": "text"
      },
      "source": [
        "\n",
        "\n",
        "*   Overfitting occurs when the noise in the dataset were capture by the algorithm.\n",
        "*   As small variance in data, the prediction is unstable.\n",
        "*   If the decision tree is too complicated leads low bias and makes it difficult for the model to work with new data.\n",
        "\n"
      ]
    },
    {
      "cell_type": "markdown",
      "metadata": {
        "id": "cyy0UG1sH9IK",
        "colab_type": "text"
      },
      "source": [
        "### **3) Logistics Regression**"
      ]
    },
    {
      "cell_type": "markdown",
      "metadata": {
        "id": "CaM0vulbIGf2",
        "colab_type": "text"
      },
      "source": [
        "**Pros**"
      ]
    },
    {
      "cell_type": "markdown",
      "metadata": {
        "id": "ZCQJwOTNIIge",
        "colab_type": "text"
      },
      "source": [
        "\n",
        "\n",
        "*   Efficient because no computational resources required.\n",
        "*   High interpretable as no input features to be scaled, tuning are required. \n",
        "*   Easy to regularize and well-calibrated predicted probabilities outputs.\n",
        "\n",
        "\n",
        "\n",
        "\n"
      ]
    },
    {
      "cell_type": "markdown",
      "metadata": {
        "id": "MB7VGkWUIvRR",
        "colab_type": "text"
      },
      "source": [
        "**Cons**"
      ]
    },
    {
      "cell_type": "markdown",
      "metadata": {
        "id": "noG6tCboIwxJ",
        "colab_type": "text"
      },
      "source": [
        "\n",
        "\n",
        "*   Non-linear problems could not solve as the decision surface is linear.\n",
        "\n",
        "\n"
      ]
    },
    {
      "cell_type": "markdown",
      "metadata": {
        "id": "g79hkvEPI9nZ",
        "colab_type": "text"
      },
      "source": [
        "### **4) Gaussian Naive Bayes**"
      ]
    },
    {
      "cell_type": "markdown",
      "metadata": {
        "id": "D2Lu3aOTJHr2",
        "colab_type": "text"
      },
      "source": [
        "**Pros**"
      ]
    },
    {
      "cell_type": "markdown",
      "metadata": {
        "id": "HSuDe7C4JJaJ",
        "colab_type": "text"
      },
      "source": [
        "\n",
        "\n",
        "*   Easy and fast prediction class of test data set. \n",
        "*   Well perfoem in multi class prediction.\n",
        "*   Performs better when assumption of independence holds.\n",
        "*   Less traning data needed.\n",
        "\n"
      ]
    },
    {
      "cell_type": "markdown",
      "metadata": {
        "id": "e5K791TxJpSy",
        "colab_type": "text"
      },
      "source": [
        "**Cons**"
      ]
    },
    {
      "cell_type": "markdown",
      "metadata": {
        "id": "TLdt3Bk_Jq5g",
        "colab_type": "text"
      },
      "source": [
        "\n",
        "\n",
        "*   Assumption of independent predictors as hard and impossible to get a set of predictors in real life.\n",
        "*   \"Zero Frequency\", when categorical variable has a category in test data set, the model will assign a zero probability which cause unable to make a prediction. Laplace estimation could solve this problem.\n",
        "\n"
      ]
    },
    {
      "cell_type": "markdown",
      "metadata": {
        "id": "Mt3E_ZKIpr93",
        "colab_type": "text"
      },
      "source": [
        "## **Result**"
      ]
    },
    {
      "cell_type": "markdown",
      "metadata": {
        "id": "Z_asKVGgp3_g",
        "colab_type": "text"
      },
      "source": [
        "The values of precision will be used to determine the algorithm chosen. As Random Forest algorithm has a precision of 0.86, accuracy of 0.86 and f1 score of 0.79 (which is overall higher than other algorithms), so it will be choosen to be in the implementation. "
      ]
    },
    {
      "cell_type": "markdown",
      "metadata": {
        "id": "DTaU1fLtqbmk",
        "colab_type": "text"
      },
      "source": [
        "**Overfitting test**"
      ]
    },
    {
      "cell_type": "markdown",
      "metadata": {
        "id": "iGdj8xxdqd2A",
        "colab_type": "text"
      },
      "source": [
        "Usually after the data splitting, the model performance will then evaluated based on the error metric to determine the accuracy of the model. This method however is not very reliable as the accuracy obtained for one test set can be very different to the accuracy for a different test set. Hence, K-fold Cross Validation (CV) is used to provide a solution to this problem by dividing the data into folds and ensuring that each fold is used as testing set at some point. It found that the mean accuracy of using Random Forest is 60.8 %, which is consider average-high accuracy. In other word, the model used to train and predict is not overfitting. "
      ]
    },
    {
      "cell_type": "code",
      "metadata": {
        "id": "Bzg3UHjKrmj8",
        "colab_type": "code",
        "colab": {
          "base_uri": "https://localhost:8080/",
          "height": 34
        },
        "outputId": "e69bca84-e606-4d8d-ead7-d5694d3b45f3"
      },
      "source": [
        "LogF = RandomForestClassifier()\n",
        "cv_scores = cross_val_score(LogF, X, y, cv = 8, scoring = 'accuracy')\n",
        "print('Mean Score of CV: ', cv_scores.mean())"
      ],
      "execution_count": null,
      "outputs": [
        {
          "output_type": "stream",
          "text": [
            "Mean Score of CV:  0.6085337915234823\n"
          ],
          "name": "stdout"
        }
      ]
    },
    {
      "cell_type": "markdown",
      "metadata": {
        "id": "7YAoh9bmxMwc",
        "colab_type": "text"
      },
      "source": [
        "**Feature Importance**"
      ]
    },
    {
      "cell_type": "markdown",
      "metadata": {
        "id": "ni8vy1s-xcas",
        "colab_type": "text"
      },
      "source": [
        "Showing Feature Importance using Random Forest Algorithms to assign score to input features based on how useful they are at predicting a target variable."
      ]
    },
    {
      "cell_type": "code",
      "metadata": {
        "id": "fk4ufq8fxe35",
        "colab_type": "code",
        "colab": {
          "base_uri": "https://localhost:8080/",
          "height": 1000
        },
        "outputId": "b15f8abb-da01-40d1-cbc1-b9de904ac7bd"
      },
      "source": [
        "importances = rfl.feature_importances_ \n",
        "# Sort feature importances in descending order\n",
        "indices = np.argsort(importances)[::-1]\n",
        "\n",
        "# Rearrange feature names so they match the sorted feature importances\n",
        "names = [X.columns[i] for i in indices]\n",
        "\n",
        "# Create plot\n",
        "plt.figure(figsize=(30,30))\n",
        "\n",
        "# Create plot title\n",
        "plt.title(\"Feature Importance\")\n",
        "\n",
        "# Add bars\n",
        "plt.bar(range(X.shape[1]), importances[indices])\n",
        "\n",
        "# Add feature names as x-axis labels\n",
        "plt.xticks(range(X.shape[1]), names, rotation=90)\n",
        "\n",
        "# Show plot\n",
        "plt.show()"
      ],
      "execution_count": null,
      "outputs": [
        {
          "output_type": "display_data",
          "data": {
            "image/png": "[encoded data removed]",
            "text/plain": [
              "<Figure size 2160x2160 with 1 Axes>"
            ]
          },
          "metadata": {
            "tags": []
          }
        }
      ]
    },
    {
      "cell_type": "code",
      "metadata": {
        "id": "jAI6TTPJQBWK",
        "colab_type": "code",
        "colab": {
          "base_uri": "https://localhost:8080/",
          "height": 1000
        },
        "outputId": "8904d199-c03a-476d-c8b1-1410407e0e41"
      },
      "source": [
        "# pring all feature importance\n",
        "indices = np.argsort(importances)[::-1]\n",
        "feat_labels = X.columns[:]\n",
        "\n",
        "for f in range(X_train_std.shape[1]):\n",
        "    print(\"%2d) %-*s %f\" % (f + 1, 30, \n",
        "                            feat_labels[indices[f]], \n",
        "                            importances[indices[f]]))"
      ],
      "execution_count": null,
      "outputs": [
        {
          "output_type": "stream",
          "text": [
            " 1) lead_time                      0.156422\n",
            " 2) adr                            0.111329\n",
            " 3) deposit_type_Non Refund        0.090532\n",
            " 4) deposit_type_No Deposit        0.081370\n",
            " 5) arrival_date_day_of_month      0.078843\n",
            " 6) total_of_special_requests      0.060226\n",
            " 7) arrival_date_week_number       0.058620\n",
            " 8) stays_in_week_nights           0.049950\n",
            " 9) previous_cancellations         0.040585\n",
            "10) stays_in_weekend_nights        0.030549\n",
            "11) required_car_parking_spaces    0.021364\n",
            "12) market_segment_Online TA       0.020614\n",
            "13) adults                         0.017827\n",
            "14) customer_type_Transient        0.015578\n",
            "15) customer_type_Transient-Party  0.011599\n",
            "16) market_segment_Groups          0.011594\n",
            "17) market_segment_Offline TA/TO   0.010840\n",
            "18) distribution_channel_TA/TO     0.008528\n",
            "19) children                       0.007708\n",
            "20) reserved_room_type_A           0.007475\n",
            "21) meal_BB                        0.007060\n",
            "22) reserved_room_type_D           0.006210\n",
            "23) arrival_date_month_July        0.005416\n",
            "24) meal_HB                        0.005407\n",
            "25) arrival_date_month_August      0.004984\n",
            "26) arrival_date_month_May         0.004970\n",
            "27) market_segment_Direct          0.004887\n",
            "28) arrival_date_month_June        0.004733\n",
            "29) arrival_date_month_April       0.004540\n",
            "30) distribution_channel_Direct    0.004468\n",
            "31) meal_SC                        0.004134\n",
            "32) arrival_date_month_September   0.004129\n",
            "33) reserved_room_type_E           0.004057\n",
            "34) arrival_date_month_October     0.004036\n",
            "35) arrival_date_month_March       0.003585\n",
            "36) arrival_date_month_February    0.003457\n",
            "37) previous_bookings_not_canceled 0.003223\n",
            "38) arrival_date_month_November    0.003078\n",
            "39) arrival_date_month_December    0.002689\n",
            "40) arrival_date_month_January     0.002275\n",
            "41) reserved_room_type_F           0.002170\n",
            "42) customer_type_Contract         0.002010\n",
            "43) market_segment_Corporate       0.001977\n",
            "44) distribution_channel_Corporate 0.001930\n",
            "45) is_repeated_guest_0            0.001821\n",
            "46) reserved_room_type_G           0.001730\n",
            "47) is_repeated_guest_1            0.001674\n",
            "48) meal_FB                        0.001441\n",
            "49) reserved_room_type_B           0.001421\n",
            "50) reserved_room_type_C           0.001319\n",
            "51) babies                         0.001208\n",
            "52) reserved_room_type_H           0.000757\n",
            "53) customer_type_Group            0.000436\n",
            "54) deposit_type_Refundable        0.000362\n",
            "55) market_segment_Complementary   0.000350\n",
            "56) distribution_channel_GDS       0.000297\n",
            "57) market_segment_Aviation        0.000197\n",
            "58) reserved_room_type_L           0.000012\n",
            "59) distribution_channel_Undefined 0.000000\n"
          ],
          "name": "stdout"
        }
      ]
    },
    {
      "cell_type": "markdown",
      "metadata": {
        "id": "VHIMsqTYGofC",
        "colab_type": "text"
      },
      "source": [
        "As the above bar chart and sorted table, the top 5 features that affecting the booking cancelations are lead_time, adr, deposit_type_non_refund, deposit_type_non deposit, and arrival_date_day_of_month."
      ]
    },
    {
      "cell_type": "markdown",
      "metadata": {
        "id": "u0DQWQ9yexhA",
        "colab_type": "text"
      },
      "source": [
        "# **End**"
      ]
    }
  ]
}